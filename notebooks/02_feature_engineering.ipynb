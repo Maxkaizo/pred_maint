{
 "cells": [
  {
   "cell_type": "markdown",
   "id": "c6b81add",
   "metadata": {},
   "source": [
    "# Feature Engineering for Predictive Maintenance "
   ]
  },
  {
   "cell_type": "markdown",
   "id": "a78fd391",
   "metadata": {},
   "source": [
    "This notebook focuses on the **Feature Engineering (FE)** stage for the predictive maintenance dataset.  \n",
    "The goal is to merge the different sources, clean inconsistencies, and generate enriched features to train a model that predicts machine failures in the near future.  \n"
   ]
  },
  {
   "cell_type": "markdown",
   "id": "670afb03",
   "metadata": {},
   "source": [
    "---"
   ]
  },
  {
   "cell_type": "markdown",
   "id": "5d7085b5",
   "metadata": {},
   "source": [
    "## Action Plan  \n",
    "1. Merge datasets (`telemetry`, `errors`, `maintenance`, `failures`, `machines`).  \n",
    "2. Validate missing values and apply imputation if necessary.  \n",
    "3. Feature engineering:  \n",
    "   - Time-based features (hour, weekday, month, etc).  \n",
    "   - Rolling features (means, std, lags on sensors and error flags).  \n",
    "4. Encode categorical variables (`model`, components).  \n",
    "5. Re-label the target to anticipate **near future failures**.  \n",
    "6. Validate feature importance (mutual information + correlation with target).  "
   ]
  },
  {
   "cell_type": "markdown",
   "id": "8e1314d9",
   "metadata": {},
   "source": [
    "---"
   ]
  },
  {
   "cell_type": "markdown",
   "id": "60471315",
   "metadata": {},
   "source": [
    "## Import Libraries and Set Preferences"
   ]
  },
  {
   "cell_type": "code",
   "execution_count": 1,
   "id": "085b1e19",
   "metadata": {},
   "outputs": [],
   "source": [
    "import pandas as pd\n",
    "import numpy as np\n",
    "import matplotlib as plt"
   ]
  },
  {
   "cell_type": "code",
   "execution_count": 2,
   "id": "8d7ff20b",
   "metadata": {},
   "outputs": [],
   "source": [
    "# Numeric data format\n",
    "pd.set_option('display.float_format', '{:,.2f}'.format)\n",
    "pd.options.display.float_format = '{:,.2f}'.format"
   ]
  },
  {
   "cell_type": "markdown",
   "id": "9c59186f",
   "metadata": {},
   "source": [
    "---"
   ]
  },
  {
   "cell_type": "markdown",
   "id": "9b126e1e",
   "metadata": {},
   "source": [
    "## Load Files"
   ]
  },
  {
   "cell_type": "code",
   "execution_count": 3,
   "id": "3b4f7586",
   "metadata": {},
   "outputs": [],
   "source": [
    "errors = pd.read_csv(\"../data/PdM_errors.csv\", parse_dates=['datetime'])\n",
    "failures = pd.read_csv(\"../data/PdM_failures.csv\", parse_dates=['datetime'])\n",
    "machines = pd.read_csv(\"../data/PdM_machines.csv\")\n",
    "maintenance = pd.read_csv(\"../data/PdM_maint.csv\", parse_dates=['datetime'])\n",
    "telemetry = pd.read_csv(\"../data/PdM_telemetry.csv\", parse_dates=['datetime'])"
   ]
  },
  {
   "cell_type": "markdown",
   "id": "b5245bfb",
   "metadata": {},
   "source": [
    "---"
   ]
  },
  {
   "cell_type": "markdown",
   "id": "a479e7fd",
   "metadata": {},
   "source": [
    "## Pre-Process Datasets"
   ]
  },
  {
   "cell_type": "markdown",
   "id": "6f2f595b",
   "metadata": {},
   "source": [
    "During the EDA phase, we identified the presence of simultaneous events in the **errors**, **maintenance**, and **failures** tables.  \n",
    "Since our plan involves creating lag features and rolling averages—which require a consistent frequency and format in the main dataframe—we will pivot these tables.  \n",
    "This approach ensures a single record for each `(datetime, machineID)` combination while preserving all available information."
   ]
  },
  {
   "cell_type": "code",
   "execution_count": 4,
   "id": "7d456bb6",
   "metadata": {},
   "outputs": [
    {
     "name": "stdout",
     "output_type": "stream",
     "text": [
      "errors: 274 simultaneous events\n",
      "maintenance: 756 simultaneous events\n",
      "failures: 42 simultaneous events\n"
     ]
    }
   ],
   "source": [
    "# Dictionary with the tables to check\n",
    "tables = {\n",
    "    \"errors\": errors,\n",
    "    \"maintenance\": maintenance,\n",
    "    \"failures\": failures\n",
    "}\n",
    "\n",
    "# Loop to count simultaneous events per table\n",
    "for name, df in tables.items():\n",
    "    check = df.groupby([\"datetime\", \"machineID\"]).size()\n",
    "    simultaneous = (check > 1).sum()\n",
    "    print(f\"{name}: {simultaneous} simultaneous events\")\n",
    "    df = None"
   ]
  },
  {
   "cell_type": "markdown",
   "id": "551df9e6",
   "metadata": {},
   "source": [
    "We isolate **proactive maintenance events** to avoid data leakage, since some maintenance records in the dataset actually correspond to reactive replacements triggered by a failure."
   ]
  },
  {
   "cell_type": "code",
   "execution_count": 5,
   "id": "82952fe8",
   "metadata": {},
   "outputs": [],
   "source": [
    "# Marcar proactivo vs reactivo\n",
    "maint_with_flag = maintenance.merge(\n",
    "    failures[[\"datetime\", \"machineID\", \"failure\"]],\n",
    "    left_on = [\"datetime\", \"machineID\", \"comp\"],\n",
    "    right_on= [\"datetime\", \"machineID\", \"failure\"],\n",
    "    how=\"left\",\n",
    "    indicator=True\n",
    ")"
   ]
  },
  {
   "cell_type": "code",
   "execution_count": 9,
   "id": "c22bbc2d",
   "metadata": {},
   "outputs": [],
   "source": [
    "# Solo mantenimientos proactivos (no aparecen en failures)\n",
    "maintenance_proactive = (\n",
    "    maint_with_flag[maint_with_flag[\"_merge\"] == \"left_only\"]\n",
    "      .drop(columns=[\"_merge\", \"failure\"])\n",
    "      .drop_duplicates()\n",
    ")"
   ]
  },
  {
   "cell_type": "code",
   "execution_count": 11,
   "id": "4e2d6811",
   "metadata": {},
   "outputs": [],
   "source": [
    "# Pivot errors\n",
    "errors_pivot = (\n",
    "    errors.assign(flag=1)\n",
    "          .pivot_table(index=[\"datetime\", \"machineID\"],\n",
    "                       columns=\"errorID\",\n",
    "                       values=\"flag\",\n",
    "                       fill_value=0)\n",
    "          .reset_index()\n",
    ")\n",
    "\n",
    "# Pivot maintenance\n",
    "maint_pivot = (\n",
    "    maintenance_proactive.assign(flag=1)\n",
    "               .pivot_table(index=[\"datetime\", \"machineID\"],\n",
    "                            columns=\"comp\",\n",
    "                            values=\"flag\",\n",
    "                            fill_value=0)\n",
    "               .reset_index()\n",
    ")\n",
    "\n",
    "# Pivot failures\n",
    "failures_pivot = (\n",
    "    failures.assign(flag=1)\n",
    "            .pivot_table(index=[\"datetime\", \"machineID\"],\n",
    "                         columns=\"failure\",\n",
    "                         values=\"flag\",\n",
    "                         fill_value=0)\n",
    "            .reset_index()\n",
    ")\n"
   ]
  },
  {
   "cell_type": "markdown",
   "id": "813836f1",
   "metadata": {},
   "source": [
    "Validate with errors dataframe"
   ]
  },
  {
   "cell_type": "code",
   "execution_count": 12,
   "id": "d2bf6d7f",
   "metadata": {},
   "outputs": [
    {
     "data": {
      "text/html": [
       "<div>\n",
       "<style scoped>\n",
       "    .dataframe tbody tr th:only-of-type {\n",
       "        vertical-align: middle;\n",
       "    }\n",
       "\n",
       "    .dataframe tbody tr th {\n",
       "        vertical-align: top;\n",
       "    }\n",
       "\n",
       "    .dataframe thead th {\n",
       "        text-align: right;\n",
       "    }\n",
       "</style>\n",
       "<table border=\"1\" class=\"dataframe\">\n",
       "  <thead>\n",
       "    <tr style=\"text-align: right;\">\n",
       "      <th></th>\n",
       "      <th>datetime</th>\n",
       "      <th>machineID</th>\n",
       "      <th>errorID</th>\n",
       "    </tr>\n",
       "  </thead>\n",
       "  <tbody>\n",
       "    <tr>\n",
       "      <th>0</th>\n",
       "      <td>2015-01-03 07:00:00</td>\n",
       "      <td>1</td>\n",
       "      <td>error1</td>\n",
       "    </tr>\n",
       "    <tr>\n",
       "      <th>1</th>\n",
       "      <td>2015-01-03 20:00:00</td>\n",
       "      <td>1</td>\n",
       "      <td>error3</td>\n",
       "    </tr>\n",
       "    <tr>\n",
       "      <th>2</th>\n",
       "      <td>2015-01-04 06:00:00</td>\n",
       "      <td>1</td>\n",
       "      <td>error5</td>\n",
       "    </tr>\n",
       "    <tr>\n",
       "      <th>3</th>\n",
       "      <td>2015-01-10 15:00:00</td>\n",
       "      <td>1</td>\n",
       "      <td>error4</td>\n",
       "    </tr>\n",
       "    <tr>\n",
       "      <th>4</th>\n",
       "      <td>2015-01-22 10:00:00</td>\n",
       "      <td>1</td>\n",
       "      <td>error4</td>\n",
       "    </tr>\n",
       "  </tbody>\n",
       "</table>\n",
       "</div>"
      ],
      "text/plain": [
       "             datetime  machineID errorID\n",
       "0 2015-01-03 07:00:00          1  error1\n",
       "1 2015-01-03 20:00:00          1  error3\n",
       "2 2015-01-04 06:00:00          1  error5\n",
       "3 2015-01-10 15:00:00          1  error4\n",
       "4 2015-01-22 10:00:00          1  error4"
      ]
     },
     "execution_count": 12,
     "metadata": {},
     "output_type": "execute_result"
    }
   ],
   "source": [
    "# before\n",
    "errors.head()"
   ]
  },
  {
   "cell_type": "code",
   "execution_count": 13,
   "id": "1e3e9a70",
   "metadata": {},
   "outputs": [
    {
     "data": {
      "text/html": [
       "<div>\n",
       "<style scoped>\n",
       "    .dataframe tbody tr th:only-of-type {\n",
       "        vertical-align: middle;\n",
       "    }\n",
       "\n",
       "    .dataframe tbody tr th {\n",
       "        vertical-align: top;\n",
       "    }\n",
       "\n",
       "    .dataframe thead th {\n",
       "        text-align: right;\n",
       "    }\n",
       "</style>\n",
       "<table border=\"1\" class=\"dataframe\">\n",
       "  <thead>\n",
       "    <tr style=\"text-align: right;\">\n",
       "      <th>errorID</th>\n",
       "      <th>datetime</th>\n",
       "      <th>machineID</th>\n",
       "      <th>error1</th>\n",
       "      <th>error2</th>\n",
       "      <th>error3</th>\n",
       "      <th>error4</th>\n",
       "      <th>error5</th>\n",
       "    </tr>\n",
       "  </thead>\n",
       "  <tbody>\n",
       "    <tr>\n",
       "      <th>0</th>\n",
       "      <td>2015-01-01 06:00:00</td>\n",
       "      <td>24</td>\n",
       "      <td>1.00</td>\n",
       "      <td>0.00</td>\n",
       "      <td>0.00</td>\n",
       "      <td>0.00</td>\n",
       "      <td>0.00</td>\n",
       "    </tr>\n",
       "    <tr>\n",
       "      <th>1</th>\n",
       "      <td>2015-01-01 06:00:00</td>\n",
       "      <td>73</td>\n",
       "      <td>0.00</td>\n",
       "      <td>0.00</td>\n",
       "      <td>0.00</td>\n",
       "      <td>1.00</td>\n",
       "      <td>0.00</td>\n",
       "    </tr>\n",
       "    <tr>\n",
       "      <th>2</th>\n",
       "      <td>2015-01-01 06:00:00</td>\n",
       "      <td>81</td>\n",
       "      <td>1.00</td>\n",
       "      <td>0.00</td>\n",
       "      <td>0.00</td>\n",
       "      <td>0.00</td>\n",
       "      <td>0.00</td>\n",
       "    </tr>\n",
       "    <tr>\n",
       "      <th>3</th>\n",
       "      <td>2015-01-01 07:00:00</td>\n",
       "      <td>43</td>\n",
       "      <td>0.00</td>\n",
       "      <td>0.00</td>\n",
       "      <td>1.00</td>\n",
       "      <td>0.00</td>\n",
       "      <td>0.00</td>\n",
       "    </tr>\n",
       "    <tr>\n",
       "      <th>4</th>\n",
       "      <td>2015-01-01 08:00:00</td>\n",
       "      <td>14</td>\n",
       "      <td>0.00</td>\n",
       "      <td>0.00</td>\n",
       "      <td>0.00</td>\n",
       "      <td>1.00</td>\n",
       "      <td>0.00</td>\n",
       "    </tr>\n",
       "  </tbody>\n",
       "</table>\n",
       "</div>"
      ],
      "text/plain": [
       "errorID            datetime  machineID  error1  error2  error3  error4  error5\n",
       "0       2015-01-01 06:00:00         24    1.00    0.00    0.00    0.00    0.00\n",
       "1       2015-01-01 06:00:00         73    0.00    0.00    0.00    1.00    0.00\n",
       "2       2015-01-01 06:00:00         81    1.00    0.00    0.00    0.00    0.00\n",
       "3       2015-01-01 07:00:00         43    0.00    0.00    1.00    0.00    0.00\n",
       "4       2015-01-01 08:00:00         14    0.00    0.00    0.00    1.00    0.00"
      ]
     },
     "execution_count": 13,
     "metadata": {},
     "output_type": "execute_result"
    }
   ],
   "source": [
    "# after\n",
    "errors_pivot.head()"
   ]
  },
  {
   "cell_type": "markdown",
   "id": "eedb8b56",
   "metadata": {},
   "source": [
    "We'll pivot the `model` column into binary flags (e.g., `model_M1`, `model_M2`, …) to keep the dataset fully numeric and consistent with the other pivoted tables.  \n",
    "This ensures compatibility with any ML algorithm, simplifies feature management, and avoids the need for separate categorical encoders."
   ]
  },
  {
   "cell_type": "code",
   "execution_count": 14,
   "id": "f3973865",
   "metadata": {},
   "outputs": [],
   "source": [
    "# Pivot models\n",
    "machines_pivot = (\n",
    "    machines.assign(flag=1)\n",
    "            .pivot_table(index=\"machineID\",\n",
    "                         columns=\"model\",\n",
    "                         values=\"flag\",\n",
    "                         fill_value=0)\n",
    "            .reset_index()\n",
    ")\n",
    "\n",
    "# Drop the column name (\"model\") left by pivot_table\n",
    "machines_pivot.columns.name = None"
   ]
  },
  {
   "cell_type": "code",
   "execution_count": 15,
   "id": "bfe52bf7",
   "metadata": {},
   "outputs": [
    {
     "data": {
      "text/html": [
       "<div>\n",
       "<style scoped>\n",
       "    .dataframe tbody tr th:only-of-type {\n",
       "        vertical-align: middle;\n",
       "    }\n",
       "\n",
       "    .dataframe tbody tr th {\n",
       "        vertical-align: top;\n",
       "    }\n",
       "\n",
       "    .dataframe thead th {\n",
       "        text-align: right;\n",
       "    }\n",
       "</style>\n",
       "<table border=\"1\" class=\"dataframe\">\n",
       "  <thead>\n",
       "    <tr style=\"text-align: right;\">\n",
       "      <th></th>\n",
       "      <th>machineID</th>\n",
       "      <th>model1</th>\n",
       "      <th>model2</th>\n",
       "      <th>model3</th>\n",
       "      <th>model4</th>\n",
       "    </tr>\n",
       "  </thead>\n",
       "  <tbody>\n",
       "    <tr>\n",
       "      <th>0</th>\n",
       "      <td>1</td>\n",
       "      <td>0.00</td>\n",
       "      <td>0.00</td>\n",
       "      <td>1.00</td>\n",
       "      <td>0.00</td>\n",
       "    </tr>\n",
       "    <tr>\n",
       "      <th>1</th>\n",
       "      <td>2</td>\n",
       "      <td>0.00</td>\n",
       "      <td>0.00</td>\n",
       "      <td>0.00</td>\n",
       "      <td>1.00</td>\n",
       "    </tr>\n",
       "    <tr>\n",
       "      <th>2</th>\n",
       "      <td>3</td>\n",
       "      <td>0.00</td>\n",
       "      <td>0.00</td>\n",
       "      <td>1.00</td>\n",
       "      <td>0.00</td>\n",
       "    </tr>\n",
       "    <tr>\n",
       "      <th>3</th>\n",
       "      <td>4</td>\n",
       "      <td>0.00</td>\n",
       "      <td>0.00</td>\n",
       "      <td>1.00</td>\n",
       "      <td>0.00</td>\n",
       "    </tr>\n",
       "    <tr>\n",
       "      <th>4</th>\n",
       "      <td>5</td>\n",
       "      <td>0.00</td>\n",
       "      <td>0.00</td>\n",
       "      <td>1.00</td>\n",
       "      <td>0.00</td>\n",
       "    </tr>\n",
       "    <tr>\n",
       "      <th>...</th>\n",
       "      <td>...</td>\n",
       "      <td>...</td>\n",
       "      <td>...</td>\n",
       "      <td>...</td>\n",
       "      <td>...</td>\n",
       "    </tr>\n",
       "    <tr>\n",
       "      <th>95</th>\n",
       "      <td>96</td>\n",
       "      <td>0.00</td>\n",
       "      <td>1.00</td>\n",
       "      <td>0.00</td>\n",
       "      <td>0.00</td>\n",
       "    </tr>\n",
       "    <tr>\n",
       "      <th>96</th>\n",
       "      <td>97</td>\n",
       "      <td>0.00</td>\n",
       "      <td>1.00</td>\n",
       "      <td>0.00</td>\n",
       "      <td>0.00</td>\n",
       "    </tr>\n",
       "    <tr>\n",
       "      <th>97</th>\n",
       "      <td>98</td>\n",
       "      <td>0.00</td>\n",
       "      <td>1.00</td>\n",
       "      <td>0.00</td>\n",
       "      <td>0.00</td>\n",
       "    </tr>\n",
       "    <tr>\n",
       "      <th>98</th>\n",
       "      <td>99</td>\n",
       "      <td>1.00</td>\n",
       "      <td>0.00</td>\n",
       "      <td>0.00</td>\n",
       "      <td>0.00</td>\n",
       "    </tr>\n",
       "    <tr>\n",
       "      <th>99</th>\n",
       "      <td>100</td>\n",
       "      <td>0.00</td>\n",
       "      <td>0.00</td>\n",
       "      <td>0.00</td>\n",
       "      <td>1.00</td>\n",
       "    </tr>\n",
       "  </tbody>\n",
       "</table>\n",
       "<p>100 rows × 5 columns</p>\n",
       "</div>"
      ],
      "text/plain": [
       "    machineID  model1  model2  model3  model4\n",
       "0           1    0.00    0.00    1.00    0.00\n",
       "1           2    0.00    0.00    0.00    1.00\n",
       "2           3    0.00    0.00    1.00    0.00\n",
       "3           4    0.00    0.00    1.00    0.00\n",
       "4           5    0.00    0.00    1.00    0.00\n",
       "..        ...     ...     ...     ...     ...\n",
       "95         96    0.00    1.00    0.00    0.00\n",
       "96         97    0.00    1.00    0.00    0.00\n",
       "97         98    0.00    1.00    0.00    0.00\n",
       "98         99    1.00    0.00    0.00    0.00\n",
       "99        100    0.00    0.00    0.00    1.00\n",
       "\n",
       "[100 rows x 5 columns]"
      ]
     },
     "execution_count": 15,
     "metadata": {},
     "output_type": "execute_result"
    }
   ],
   "source": [
    "machines_pivot"
   ]
  },
  {
   "cell_type": "markdown",
   "id": "13ffc667",
   "metadata": {},
   "source": [
    "---"
   ]
  },
  {
   "cell_type": "markdown",
   "id": "2587fc6c",
   "metadata": {},
   "source": [
    "## Merge Dataframes"
   ]
  },
  {
   "cell_type": "code",
   "execution_count": 16,
   "id": "9ce29099",
   "metadata": {},
   "outputs": [],
   "source": [
    "# Base: telemetry + machines\n",
    "full_df = telemetry.merge(machines_pivot, on=\"machineID\", how=\"left\")"
   ]
  },
  {
   "cell_type": "code",
   "execution_count": 17,
   "id": "31244cd3",
   "metadata": {},
   "outputs": [],
   "source": [
    "# Merge with errors\n",
    "full_df = full_df.merge(errors_pivot, on=[\"datetime\", \"machineID\"], how=\"left\")"
   ]
  },
  {
   "cell_type": "code",
   "execution_count": 18,
   "id": "0db02cca",
   "metadata": {},
   "outputs": [],
   "source": [
    "# Rename maintenance components columns, to avoid confusion with columns on failures dataframe\n",
    "maint_pivot = maint_pivot.rename(\n",
    "    columns={c: f\"{c}_maint\" for c in maint_pivot.columns if c.startswith(\"comp\")}\n",
    ")"
   ]
  },
  {
   "cell_type": "code",
   "execution_count": 19,
   "id": "13366b28",
   "metadata": {},
   "outputs": [],
   "source": [
    "# Merge with maintenance\n",
    "full_df = full_df.merge(\n",
    "    maint_pivot,\n",
    "    on=[\"datetime\", \"machineID\"],\n",
    "    how=\"left\"\n",
    ")"
   ]
  },
  {
   "cell_type": "code",
   "execution_count": 20,
   "id": "871022f8",
   "metadata": {},
   "outputs": [],
   "source": [
    "# Rename failures components columns, to avoid confusion with columns on maintenance dataframe\n",
    "failures_pivot = failures_pivot.rename(\n",
    "    columns={c: f\"{c}_fail\" for c in failures_pivot.columns if c.startswith(\"comp\")}\n",
    ")"
   ]
  },
  {
   "cell_type": "code",
   "execution_count": 21,
   "metadata": {},
   "outputs": [],
   "source": [
    "# Merge with failures\n",
    "full_df = full_df.merge(\n",
    "    failures_pivot,\n",
    "    on=[\"datetime\", \"machineID\"],\n",
    "    how=\"left\"\n",
    ")"
   ]
  },
  {
   "cell_type": "code",
   "execution_count": 22,
   "id": "7df92a5b",
   "metadata": {},
   "outputs": [
    {
     "data": {
      "text/html": [
       "<div>\n",
       "<style scoped>\n",
       "    .dataframe tbody tr th:only-of-type {\n",
       "        vertical-align: middle;\n",
       "    }\n",
       "\n",
       "    .dataframe tbody tr th {\n",
       "        vertical-align: top;\n",
       "    }\n",
       "\n",
       "    .dataframe thead th {\n",
       "        text-align: right;\n",
       "    }\n",
       "</style>\n",
       "<table border=\"1\" class=\"dataframe\">\n",
       "  <thead>\n",
       "    <tr style=\"text-align: right;\">\n",
       "      <th></th>\n",
       "      <th>0</th>\n",
       "      <th>1</th>\n",
       "      <th>2</th>\n",
       "    </tr>\n",
       "  </thead>\n",
       "  <tbody>\n",
       "    <tr>\n",
       "      <th>datetime</th>\n",
       "      <td>2015-01-01 06:00:00</td>\n",
       "      <td>2015-01-01 07:00:00</td>\n",
       "      <td>2015-01-01 08:00:00</td>\n",
       "    </tr>\n",
       "    <tr>\n",
       "      <th>machineID</th>\n",
       "      <td>1</td>\n",
       "      <td>1</td>\n",
       "      <td>1</td>\n",
       "    </tr>\n",
       "    <tr>\n",
       "      <th>volt</th>\n",
       "      <td>176.22</td>\n",
       "      <td>162.88</td>\n",
       "      <td>170.99</td>\n",
       "    </tr>\n",
       "    <tr>\n",
       "      <th>rotate</th>\n",
       "      <td>418.50</td>\n",
       "      <td>402.75</td>\n",
       "      <td>527.35</td>\n",
       "    </tr>\n",
       "    <tr>\n",
       "      <th>pressure</th>\n",
       "      <td>113.08</td>\n",
       "      <td>95.46</td>\n",
       "      <td>75.24</td>\n",
       "    </tr>\n",
       "    <tr>\n",
       "      <th>vibration</th>\n",
       "      <td>45.09</td>\n",
       "      <td>43.41</td>\n",
       "      <td>34.18</td>\n",
       "    </tr>\n",
       "    <tr>\n",
       "      <th>model1</th>\n",
       "      <td>0.00</td>\n",
       "      <td>0.00</td>\n",
       "      <td>0.00</td>\n",
       "    </tr>\n",
       "    <tr>\n",
       "      <th>model2</th>\n",
       "      <td>0.00</td>\n",
       "      <td>0.00</td>\n",
       "      <td>0.00</td>\n",
       "    </tr>\n",
       "    <tr>\n",
       "      <th>model3</th>\n",
       "      <td>1.00</td>\n",
       "      <td>1.00</td>\n",
       "      <td>1.00</td>\n",
       "    </tr>\n",
       "    <tr>\n",
       "      <th>model4</th>\n",
       "      <td>0.00</td>\n",
       "      <td>0.00</td>\n",
       "      <td>0.00</td>\n",
       "    </tr>\n",
       "    <tr>\n",
       "      <th>error1</th>\n",
       "      <td>NaN</td>\n",
       "      <td>NaN</td>\n",
       "      <td>NaN</td>\n",
       "    </tr>\n",
       "    <tr>\n",
       "      <th>error2</th>\n",
       "      <td>NaN</td>\n",
       "      <td>NaN</td>\n",
       "      <td>NaN</td>\n",
       "    </tr>\n",
       "    <tr>\n",
       "      <th>error3</th>\n",
       "      <td>NaN</td>\n",
       "      <td>NaN</td>\n",
       "      <td>NaN</td>\n",
       "    </tr>\n",
       "    <tr>\n",
       "      <th>error4</th>\n",
       "      <td>NaN</td>\n",
       "      <td>NaN</td>\n",
       "      <td>NaN</td>\n",
       "    </tr>\n",
       "    <tr>\n",
       "      <th>error5</th>\n",
       "      <td>NaN</td>\n",
       "      <td>NaN</td>\n",
       "      <td>NaN</td>\n",
       "    </tr>\n",
       "    <tr>\n",
       "      <th>comp1_maint</th>\n",
       "      <td>NaN</td>\n",
       "      <td>NaN</td>\n",
       "      <td>NaN</td>\n",
       "    </tr>\n",
       "    <tr>\n",
       "      <th>comp2_maint</th>\n",
       "      <td>NaN</td>\n",
       "      <td>NaN</td>\n",
       "      <td>NaN</td>\n",
       "    </tr>\n",
       "    <tr>\n",
       "      <th>comp3_maint</th>\n",
       "      <td>NaN</td>\n",
       "      <td>NaN</td>\n",
       "      <td>NaN</td>\n",
       "    </tr>\n",
       "    <tr>\n",
       "      <th>comp4_maint</th>\n",
       "      <td>NaN</td>\n",
       "      <td>NaN</td>\n",
       "      <td>NaN</td>\n",
       "    </tr>\n",
       "    <tr>\n",
       "      <th>comp1_fail</th>\n",
       "      <td>NaN</td>\n",
       "      <td>NaN</td>\n",
       "      <td>NaN</td>\n",
       "    </tr>\n",
       "    <tr>\n",
       "      <th>comp2_fail</th>\n",
       "      <td>NaN</td>\n",
       "      <td>NaN</td>\n",
       "      <td>NaN</td>\n",
       "    </tr>\n",
       "    <tr>\n",
       "      <th>comp3_fail</th>\n",
       "      <td>NaN</td>\n",
       "      <td>NaN</td>\n",
       "      <td>NaN</td>\n",
       "    </tr>\n",
       "    <tr>\n",
       "      <th>comp4_fail</th>\n",
       "      <td>NaN</td>\n",
       "      <td>NaN</td>\n",
       "      <td>NaN</td>\n",
       "    </tr>\n",
       "  </tbody>\n",
       "</table>\n",
       "</div>"
      ],
      "text/plain": [
       "                               0                    1                    2\n",
       "datetime     2015-01-01 06:00:00  2015-01-01 07:00:00  2015-01-01 08:00:00\n",
       "machineID                      1                    1                    1\n",
       "volt                      176.22               162.88               170.99\n",
       "rotate                    418.50               402.75               527.35\n",
       "pressure                  113.08                95.46                75.24\n",
       "vibration                  45.09                43.41                34.18\n",
       "model1                      0.00                 0.00                 0.00\n",
       "model2                      0.00                 0.00                 0.00\n",
       "model3                      1.00                 1.00                 1.00\n",
       "model4                      0.00                 0.00                 0.00\n",
       "error1                       NaN                  NaN                  NaN\n",
       "error2                       NaN                  NaN                  NaN\n",
       "error3                       NaN                  NaN                  NaN\n",
       "error4                       NaN                  NaN                  NaN\n",
       "error5                       NaN                  NaN                  NaN\n",
       "comp1_maint                  NaN                  NaN                  NaN\n",
       "comp2_maint                  NaN                  NaN                  NaN\n",
       "comp3_maint                  NaN                  NaN                  NaN\n",
       "comp4_maint                  NaN                  NaN                  NaN\n",
       "comp1_fail                   NaN                  NaN                  NaN\n",
       "comp2_fail                   NaN                  NaN                  NaN\n",
       "comp3_fail                   NaN                  NaN                  NaN\n",
       "comp4_fail                   NaN                  NaN                  NaN"
      ]
     },
     "execution_count": 22,
     "metadata": {},
     "output_type": "execute_result"
    }
   ],
   "source": [
    "full_df.head(3).T"
   ]
  },
  {
   "cell_type": "markdown",
   "id": "7629eded",
   "metadata": {},
   "source": [
    "---"
   ]
  },
  {
   "cell_type": "markdown",
   "id": "daf78019",
   "metadata": {},
   "source": [
    "## Full DataFrame Quality Check\n",
    "\n",
    "- Missing values  \n",
    "- Imputation (if needed)  \n",
    "- Deduplication (if needed)"
   ]
  },
  {
   "cell_type": "markdown",
   "id": "da6588fa",
   "metadata": {},
   "source": [
    "At this stage, we expect multiple NaN values since failures, maintenance, and errors are not present in every record.  \n",
    "Because these columns are already encoded as binary indicators, we can safely impute all missing values with zero."
   ]
  },
  {
   "cell_type": "code",
   "execution_count": 23,
   "id": "2848fa76",
   "metadata": {},
   "outputs": [
    {
     "data": {
      "text/plain": [
       "error1         872484\n",
       "error2         872484\n",
       "error3         872484\n",
       "error4         872484\n",
       "error5         872484\n",
       "comp1_maint    874360\n",
       "comp2_maint    874360\n",
       "comp3_maint    874360\n",
       "comp4_maint    874360\n",
       "comp1_fail     875381\n",
       "comp2_fail     875381\n",
       "comp3_fail     875381\n",
       "comp4_fail     875381\n",
       "dtype: int64"
      ]
     },
     "execution_count": 23,
     "metadata": {},
     "output_type": "execute_result"
    }
   ],
   "source": [
    "full_df.isnull().sum()[full_df.isnull().any()]"
   ]
  },
  {
   "cell_type": "code",
   "execution_count": 24,
   "id": "0995c813",
   "metadata": {},
   "outputs": [],
   "source": [
    "full_df = full_df.fillna(0)"
   ]
  },
  {
   "cell_type": "code",
   "execution_count": 25,
   "id": "336fe2cb",
   "metadata": {},
   "outputs": [
    {
     "name": "stdout",
     "output_type": "stream",
     "text": [
      "Duplicated records on final merge: 0\n"
     ]
    }
   ],
   "source": [
    "# Identify duplicates\n",
    "duplicates = full_df.duplicated(subset=[\"datetime\", \"machineID\"]).sum()\n",
    "print(f\"Duplicated records on final merge: {duplicates}\")\n"
   ]
  },
  {
   "cell_type": "markdown",
   "id": "d6cbb5c9",
   "metadata": {},
   "source": [
    "---"
   ]
  },
  {
   "cell_type": "markdown",
   "id": "72beb05b",
   "metadata": {},
   "source": [
    "## Feature Engineering"
   ]
  },
  {
   "cell_type": "markdown",
   "id": "64c17046",
   "metadata": {},
   "source": [
    "### Time-based features"
   ]
  },
  {
   "cell_type": "code",
   "execution_count": 26,
   "id": "16ebdf98",
   "metadata": {},
   "outputs": [],
   "source": [
    "# --- Calendar features ---\n",
    "full_df[\"hour\"] = full_df[\"datetime\"].dt.hour\n",
    "full_df[\"dayofweek\"] = full_df[\"datetime\"].dt.dayofweek  # Monday=0, Sunday=6\n",
    "full_df[\"month\"] = full_df[\"datetime\"].dt.month\n",
    "\n",
    "# --- Cyclical encoding for hour and dayofweek ---\n",
    "full_df[\"hour_sin\"] = np.sin(2 * np.pi * full_df[\"hour\"] / 24)\n",
    "full_df[\"hour_cos\"] = np.cos(2 * np.pi * full_df[\"hour\"] / 24)\n",
    "\n",
    "full_df[\"dayofweek_sin\"] = np.sin(2 * np.pi * full_df[\"dayofweek\"] / 7)\n",
    "full_df[\"dayofweek_cos\"] = np.cos(2 * np.pi * full_df[\"dayofweek\"] / 7)\n"
   ]
  },
  {
   "cell_type": "markdown",
   "id": "302271ff",
   "metadata": {},
   "source": [
    "### Rolling Features"
   ]
  },
  {
   "cell_type": "markdown",
   "id": "56c9d03b",
   "metadata": {},
   "source": [
    "#### Telemetry"
   ]
  },
  {
   "cell_type": "code",
   "execution_count": 27,
   "id": "66825d84",
   "metadata": {},
   "outputs": [],
   "source": [
    "# Telemetry features: lags + rolling stats\n",
    "telemetry_cols = [\"volt\", \"rotate\", \"pressure\", \"vibration\"]"
   ]
  },
  {
   "cell_type": "code",
   "execution_count": 28,
   "id": "a6199779",
   "metadata": {},
   "outputs": [],
   "source": [
    "# Ensure chronological order per machine\n",
    "full_df = full_df.sort_values([\"machineID\", \"datetime\"]).reset_index(drop=True)\n",
    "\n",
    "# Now lags and rolling features are safe\n",
    "for col in telemetry_cols:\n",
    "    full_df[f\"{col}_lag1\"] = full_df.groupby(\"machineID\")[col].shift(1)\n",
    "\n",
    "    full_df[f\"{col}_mean24h\"] = (\n",
    "        full_df.groupby(\"machineID\")[col]\n",
    "          .transform(lambda x: x.rolling(window=24, min_periods=1).mean())\n",
    "    )\n",
    "    full_df[f\"{col}_std24h\"] = (\n",
    "        full_df.groupby(\"machineID\")[col]\n",
    "          .transform(lambda x: x.rolling(window=24, min_periods=1).std())\n",
    "    )"
   ]
  },
  {
   "cell_type": "markdown",
   "id": "b5921285",
   "metadata": {},
   "source": [
    "After creating lag and rolling features, we expect additional NaN values, mainly in the first record of each machine (100).\n",
    "Since these cases are very few, we can simply discard them."
   ]
  },
  {
   "cell_type": "code",
   "execution_count": 29,
   "id": "68154e57",
   "metadata": {},
   "outputs": [
    {
     "data": {
      "text/plain": [
       "volt_lag1           100\n",
       "volt_std24h         100\n",
       "rotate_lag1         100\n",
       "rotate_std24h       100\n",
       "pressure_lag1       100\n",
       "pressure_std24h     100\n",
       "vibration_lag1      100\n",
       "vibration_std24h    100\n",
       "dtype: int64"
      ]
     },
     "execution_count": 29,
     "metadata": {},
     "output_type": "execute_result"
    }
   ],
   "source": [
    "full_df.isnull().sum()[full_df.isnull().any()]"
   ]
  },
  {
   "cell_type": "code",
   "execution_count": 30,
   "id": "86ffd06c",
   "metadata": {},
   "outputs": [],
   "source": [
    "full_df = full_df.dropna().reset_index(drop=True)"
   ]
  },
  {
   "cell_type": "markdown",
   "id": "dad3da74",
   "metadata": {},
   "source": [
    "#### Recent events"
   ]
  },
  {
   "cell_type": "markdown",
   "id": "402e29a7",
   "metadata": {},
   "source": [
    "We will add two binary features to indicate whether each machine has experienced \n",
    "at least one **error** or one **maintenance event** in the previous 24 hours.  \n",
    "\n",
    "These features serve as short-term history indicators, helping the model capture \n",
    "recency effects that may increase the likelihood of a failure.\n"
   ]
  },
  {
   "cell_type": "code",
   "execution_count": 31,
   "id": "7ca2edf4",
   "metadata": {},
   "outputs": [],
   "source": [
    "# Ensure chronological order\n",
    "full_df = full_df.sort_values([\"machineID\", \"datetime\"]).reset_index(drop=True)\n",
    "\n",
    "# Define error and maintenance groups\n",
    "error_cols = [c for c in full_df.columns if c.startswith(\"error\")]\n",
    "maint_cols = [c for c in full_df.columns if c.endswith(\"_maint\")]\n",
    "\n",
    "# --- Aggregate into \"any\" flags ---\n",
    "full_df[\"any_error\"] = full_df[error_cols].any(axis=1).astype(int)\n",
    "full_df[\"any_maint\"] = full_df[maint_cols].any(axis=1).astype(int)\n",
    "\n",
    "\n",
    "# --- Rolling 24h windows per machine ---\n",
    "full_df[\"any_error_last24h\"] = (\n",
    "    full_df.groupby(\"machineID\")[\"any_error\"]\n",
    "      .transform(lambda x: x.rolling(window=24, min_periods=1).max())\n",
    ")\n",
    "\n",
    "full_df[\"any_maint_last24h\"] = (\n",
    "    full_df.groupby(\"machineID\")[\"any_maint\"]\n",
    "      .transform(lambda x: x.rolling(window=24, min_periods=1).max())\n",
    ")"
   ]
  },
  {
   "cell_type": "markdown",
   "id": "1eb21e88",
   "metadata": {},
   "source": [
    "We will also add a binary feature indicating whether any failure is present.  \n",
    "This feature will later be shifted using our near-future horizon to generate the target variable."
   ]
  },
  {
   "cell_type": "code",
   "execution_count": 32,
   "id": "2d167649",
   "metadata": {},
   "outputs": [],
   "source": [
    "fail_cols = [c for c in full_df.columns if c.endswith(\"_fail\")]\n",
    "full_df[\"any_fail\"] = full_df[fail_cols].any(axis=1).astype(int)"
   ]
  },
  {
   "cell_type": "markdown",
   "id": "f7c3476e",
   "metadata": {},
   "source": [
    "Our final dataset looks like this"
   ]
  },
  {
   "cell_type": "code",
   "execution_count": 33,
   "id": "9b747b84",
   "metadata": {},
   "outputs": [
    {
     "data": {
      "text/html": [
       "<div>\n",
       "<style scoped>\n",
       "    .dataframe tbody tr th:only-of-type {\n",
       "        vertical-align: middle;\n",
       "    }\n",
       "\n",
       "    .dataframe tbody tr th {\n",
       "        vertical-align: top;\n",
       "    }\n",
       "\n",
       "    .dataframe thead th {\n",
       "        text-align: right;\n",
       "    }\n",
       "</style>\n",
       "<table border=\"1\" class=\"dataframe\">\n",
       "  <thead>\n",
       "    <tr style=\"text-align: right;\">\n",
       "      <th></th>\n",
       "      <th>0</th>\n",
       "      <th>1</th>\n",
       "    </tr>\n",
       "  </thead>\n",
       "  <tbody>\n",
       "    <tr>\n",
       "      <th>datetime</th>\n",
       "      <td>2015-01-01 07:00:00</td>\n",
       "      <td>2015-01-01 08:00:00</td>\n",
       "    </tr>\n",
       "    <tr>\n",
       "      <th>machineID</th>\n",
       "      <td>1</td>\n",
       "      <td>1</td>\n",
       "    </tr>\n",
       "    <tr>\n",
       "      <th>volt</th>\n",
       "      <td>162.88</td>\n",
       "      <td>170.99</td>\n",
       "    </tr>\n",
       "    <tr>\n",
       "      <th>rotate</th>\n",
       "      <td>402.75</td>\n",
       "      <td>527.35</td>\n",
       "    </tr>\n",
       "    <tr>\n",
       "      <th>pressure</th>\n",
       "      <td>95.46</td>\n",
       "      <td>75.24</td>\n",
       "    </tr>\n",
       "    <tr>\n",
       "      <th>vibration</th>\n",
       "      <td>43.41</td>\n",
       "      <td>34.18</td>\n",
       "    </tr>\n",
       "    <tr>\n",
       "      <th>model1</th>\n",
       "      <td>0.00</td>\n",
       "      <td>0.00</td>\n",
       "    </tr>\n",
       "    <tr>\n",
       "      <th>model2</th>\n",
       "      <td>0.00</td>\n",
       "      <td>0.00</td>\n",
       "    </tr>\n",
       "    <tr>\n",
       "      <th>model3</th>\n",
       "      <td>1.00</td>\n",
       "      <td>1.00</td>\n",
       "    </tr>\n",
       "    <tr>\n",
       "      <th>model4</th>\n",
       "      <td>0.00</td>\n",
       "      <td>0.00</td>\n",
       "    </tr>\n",
       "    <tr>\n",
       "      <th>error1</th>\n",
       "      <td>0.00</td>\n",
       "      <td>0.00</td>\n",
       "    </tr>\n",
       "    <tr>\n",
       "      <th>error2</th>\n",
       "      <td>0.00</td>\n",
       "      <td>0.00</td>\n",
       "    </tr>\n",
       "    <tr>\n",
       "      <th>error3</th>\n",
       "      <td>0.00</td>\n",
       "      <td>0.00</td>\n",
       "    </tr>\n",
       "    <tr>\n",
       "      <th>error4</th>\n",
       "      <td>0.00</td>\n",
       "      <td>0.00</td>\n",
       "    </tr>\n",
       "    <tr>\n",
       "      <th>error5</th>\n",
       "      <td>0.00</td>\n",
       "      <td>0.00</td>\n",
       "    </tr>\n",
       "    <tr>\n",
       "      <th>comp1_maint</th>\n",
       "      <td>0.00</td>\n",
       "      <td>0.00</td>\n",
       "    </tr>\n",
       "    <tr>\n",
       "      <th>comp2_maint</th>\n",
       "      <td>0.00</td>\n",
       "      <td>0.00</td>\n",
       "    </tr>\n",
       "    <tr>\n",
       "      <th>comp3_maint</th>\n",
       "      <td>0.00</td>\n",
       "      <td>0.00</td>\n",
       "    </tr>\n",
       "    <tr>\n",
       "      <th>comp4_maint</th>\n",
       "      <td>0.00</td>\n",
       "      <td>0.00</td>\n",
       "    </tr>\n",
       "    <tr>\n",
       "      <th>comp1_fail</th>\n",
       "      <td>0.00</td>\n",
       "      <td>0.00</td>\n",
       "    </tr>\n",
       "    <tr>\n",
       "      <th>comp2_fail</th>\n",
       "      <td>0.00</td>\n",
       "      <td>0.00</td>\n",
       "    </tr>\n",
       "    <tr>\n",
       "      <th>comp3_fail</th>\n",
       "      <td>0.00</td>\n",
       "      <td>0.00</td>\n",
       "    </tr>\n",
       "    <tr>\n",
       "      <th>comp4_fail</th>\n",
       "      <td>0.00</td>\n",
       "      <td>0.00</td>\n",
       "    </tr>\n",
       "    <tr>\n",
       "      <th>hour</th>\n",
       "      <td>7</td>\n",
       "      <td>8</td>\n",
       "    </tr>\n",
       "    <tr>\n",
       "      <th>dayofweek</th>\n",
       "      <td>3</td>\n",
       "      <td>3</td>\n",
       "    </tr>\n",
       "    <tr>\n",
       "      <th>month</th>\n",
       "      <td>1</td>\n",
       "      <td>1</td>\n",
       "    </tr>\n",
       "    <tr>\n",
       "      <th>hour_sin</th>\n",
       "      <td>0.97</td>\n",
       "      <td>0.87</td>\n",
       "    </tr>\n",
       "    <tr>\n",
       "      <th>hour_cos</th>\n",
       "      <td>-0.26</td>\n",
       "      <td>-0.50</td>\n",
       "    </tr>\n",
       "    <tr>\n",
       "      <th>dayofweek_sin</th>\n",
       "      <td>0.43</td>\n",
       "      <td>0.43</td>\n",
       "    </tr>\n",
       "    <tr>\n",
       "      <th>dayofweek_cos</th>\n",
       "      <td>-0.90</td>\n",
       "      <td>-0.90</td>\n",
       "    </tr>\n",
       "    <tr>\n",
       "      <th>volt_lag1</th>\n",
       "      <td>176.22</td>\n",
       "      <td>162.88</td>\n",
       "    </tr>\n",
       "    <tr>\n",
       "      <th>volt_mean24h</th>\n",
       "      <td>169.55</td>\n",
       "      <td>170.03</td>\n",
       "    </tr>\n",
       "    <tr>\n",
       "      <th>volt_std24h</th>\n",
       "      <td>9.43</td>\n",
       "      <td>6.72</td>\n",
       "    </tr>\n",
       "    <tr>\n",
       "      <th>rotate_lag1</th>\n",
       "      <td>418.50</td>\n",
       "      <td>402.75</td>\n",
       "    </tr>\n",
       "    <tr>\n",
       "      <th>rotate_mean24h</th>\n",
       "      <td>410.63</td>\n",
       "      <td>449.53</td>\n",
       "    </tr>\n",
       "    <tr>\n",
       "      <th>rotate_std24h</th>\n",
       "      <td>11.14</td>\n",
       "      <td>67.85</td>\n",
       "    </tr>\n",
       "    <tr>\n",
       "      <th>pressure_lag1</th>\n",
       "      <td>113.08</td>\n",
       "      <td>95.46</td>\n",
       "    </tr>\n",
       "    <tr>\n",
       "      <th>pressure_mean24h</th>\n",
       "      <td>104.27</td>\n",
       "      <td>94.59</td>\n",
       "    </tr>\n",
       "    <tr>\n",
       "      <th>pressure_std24h</th>\n",
       "      <td>12.46</td>\n",
       "      <td>18.93</td>\n",
       "    </tr>\n",
       "    <tr>\n",
       "      <th>vibration_lag1</th>\n",
       "      <td>45.09</td>\n",
       "      <td>43.41</td>\n",
       "    </tr>\n",
       "    <tr>\n",
       "      <th>vibration_mean24h</th>\n",
       "      <td>44.25</td>\n",
       "      <td>40.89</td>\n",
       "    </tr>\n",
       "    <tr>\n",
       "      <th>vibration_std24h</th>\n",
       "      <td>1.18</td>\n",
       "      <td>5.87</td>\n",
       "    </tr>\n",
       "    <tr>\n",
       "      <th>any_error</th>\n",
       "      <td>0</td>\n",
       "      <td>0</td>\n",
       "    </tr>\n",
       "    <tr>\n",
       "      <th>any_maint</th>\n",
       "      <td>0</td>\n",
       "      <td>0</td>\n",
       "    </tr>\n",
       "    <tr>\n",
       "      <th>any_error_last24h</th>\n",
       "      <td>0.00</td>\n",
       "      <td>0.00</td>\n",
       "    </tr>\n",
       "    <tr>\n",
       "      <th>any_maint_last24h</th>\n",
       "      <td>0.00</td>\n",
       "      <td>0.00</td>\n",
       "    </tr>\n",
       "    <tr>\n",
       "      <th>any_fail</th>\n",
       "      <td>0</td>\n",
       "      <td>0</td>\n",
       "    </tr>\n",
       "  </tbody>\n",
       "</table>\n",
       "</div>"
      ],
      "text/plain": [
       "                                     0                    1\n",
       "datetime           2015-01-01 07:00:00  2015-01-01 08:00:00\n",
       "machineID                            1                    1\n",
       "volt                            162.88               170.99\n",
       "rotate                          402.75               527.35\n",
       "pressure                         95.46                75.24\n",
       "vibration                        43.41                34.18\n",
       "model1                            0.00                 0.00\n",
       "model2                            0.00                 0.00\n",
       "model3                            1.00                 1.00\n",
       "model4                            0.00                 0.00\n",
       "error1                            0.00                 0.00\n",
       "error2                            0.00                 0.00\n",
       "error3                            0.00                 0.00\n",
       "error4                            0.00                 0.00\n",
       "error5                            0.00                 0.00\n",
       "comp1_maint                       0.00                 0.00\n",
       "comp2_maint                       0.00                 0.00\n",
       "comp3_maint                       0.00                 0.00\n",
       "comp4_maint                       0.00                 0.00\n",
       "comp1_fail                        0.00                 0.00\n",
       "comp2_fail                        0.00                 0.00\n",
       "comp3_fail                        0.00                 0.00\n",
       "comp4_fail                        0.00                 0.00\n",
       "hour                                 7                    8\n",
       "dayofweek                            3                    3\n",
       "month                                1                    1\n",
       "hour_sin                          0.97                 0.87\n",
       "hour_cos                         -0.26                -0.50\n",
       "dayofweek_sin                     0.43                 0.43\n",
       "dayofweek_cos                    -0.90                -0.90\n",
       "volt_lag1                       176.22               162.88\n",
       "volt_mean24h                    169.55               170.03\n",
       "volt_std24h                       9.43                 6.72\n",
       "rotate_lag1                     418.50               402.75\n",
       "rotate_mean24h                  410.63               449.53\n",
       "rotate_std24h                    11.14                67.85\n",
       "pressure_lag1                   113.08                95.46\n",
       "pressure_mean24h                104.27                94.59\n",
       "pressure_std24h                  12.46                18.93\n",
       "vibration_lag1                   45.09                43.41\n",
       "vibration_mean24h                44.25                40.89\n",
       "vibration_std24h                  1.18                 5.87\n",
       "any_error                            0                    0\n",
       "any_maint                            0                    0\n",
       "any_error_last24h                 0.00                 0.00\n",
       "any_maint_last24h                 0.00                 0.00\n",
       "any_fail                             0                    0"
      ]
     },
     "execution_count": 33,
     "metadata": {},
     "output_type": "execute_result"
    }
   ],
   "source": [
    "full_df.head(2).T"
   ]
  },
  {
   "cell_type": "markdown",
   "id": "7358f89e",
   "metadata": {},
   "source": [
    "## Feature Relevance Analysis (Reference)"
   ]
  },
  {
   "cell_type": "markdown",
   "id": "3bbdf351",
   "metadata": {},
   "source": [
    "As a final step in this Feature Engineering notebook, we explore the relationship \n",
    "between the engineered features and the current `any_fail` indicator.  \n",
    "\n",
    "**Important note:**  \n",
    "This analysis is **only for reference**.  \n",
    "Our true target will be `any_fail_future`, which will be created later in the training \n",
    "pipeline using a gap + horizon strategy.  \n",
    "\n",
    "We apply three complementary approaches:  \n",
    "\n",
    "1. **Mutual Information (MI)**  \n",
    "   - Captures both linear and non-linear dependencies.  \n",
    "   - Works for continuous and categorical/binary features.  \n",
    "\n",
    "2. **Correlation**  \n",
    "   - Point-biserial correlation for continuous features (measures how well they separate \n",
    "     the two classes of `any_fail`).  \n",
    "   - Spearman correlation for binary features (monotonic association).  \n",
    "\n",
    "3. **Chi² test**  \n",
    "   - Applied only to binary features (e.g., errors, maintenance, model dummies).  \n",
    "   - Tests the statistical association between feature presence and `any_fail`.  \n",
    "\n",
    "These analyses help us understand which features already show strong association with \n",
    "failures, but the actual target engineering (`any_fail_future`) will be performed \n",
    "later, after the temporal split.\n"
   ]
  },
  {
   "cell_type": "code",
   "execution_count": 34,
   "id": "f856bda9",
   "metadata": {},
   "outputs": [],
   "source": [
    "exclude_cols = [\"datetime\", \"machineID\", \"any_fail\"] + \\\n",
    "               [c for c in full_df.columns if c.endswith(\"_fail\")]"
   ]
  },
  {
   "cell_type": "code",
   "execution_count": 35,
   "id": "54b63d2c",
   "metadata": {},
   "outputs": [
    {
     "name": "stdout",
     "output_type": "stream",
     "text": [
      "Top 15 features by Mutual Information:\n",
      "\n"
     ]
    },
    {
     "data": {
      "text/plain": [
       "model3              0.07\n",
       "model4              0.06\n",
       "dayofweek_cos       0.05\n",
       "dayofweek           0.03\n",
       "dayofweek_sin       0.03\n",
       "hour_sin            0.02\n",
       "month               0.02\n",
       "model2              0.02\n",
       "hour_cos            0.02\n",
       "model1              0.02\n",
       "hour                0.01\n",
       "any_error_last24h   0.01\n",
       "any_maint_last24h   0.00\n",
       "any_maint           0.00\n",
       "rotate_mean24h      0.00\n",
       "dtype: float64"
      ]
     },
     "metadata": {},
     "output_type": "display_data"
    }
   ],
   "source": [
    "from sklearn.feature_selection import mutual_info_classif\n",
    "\n",
    "# Features vs any_fail\n",
    "X = full_df.drop(columns=exclude_cols)\n",
    "y = full_df[\"any_fail\"]\n",
    "\n",
    "mi_scores = mutual_info_classif(X, y, discrete_features=\"auto\", random_state=42)\n",
    "mi_series = pd.Series(mi_scores, index=X.columns).sort_values(ascending=False)\n",
    "\n",
    "print(\"Top 15 features by Mutual Information:\\n\")\n",
    "display(mi_series.head(15))\n"
   ]
  },
  {
   "cell_type": "code",
   "execution_count": 36,
   "id": "905f94fe",
   "metadata": {},
   "outputs": [
    {
     "name": "stdout",
     "output_type": "stream",
     "text": [
      "Top 15 features by correlation with target:\n",
      "\n"
     ]
    },
    {
     "data": {
      "text/plain": [
       "any_maint            0.25\n",
       "comp4_maint          0.12\n",
       "comp3_maint          0.12\n",
       "comp1_maint          0.11\n",
       "comp2_maint          0.10\n",
       "any_maint_last24h    0.05\n",
       "rotate_mean24h      -0.04\n",
       "hour_sin             0.04\n",
       "vibration_mean24h    0.03\n",
       "volt_mean24h         0.03\n",
       "pressure_mean24h     0.03\n",
       "hour                -0.02\n",
       "rotate_lag1         -0.01\n",
       "vibration            0.01\n",
       "pressure_lag1        0.01\n",
       "dtype: float64"
      ]
     },
     "metadata": {},
     "output_type": "display_data"
    }
   ],
   "source": [
    "from scipy.stats import spearmanr, pointbiserialr\n",
    "\n",
    "corrs = {}\n",
    "for col in full_df.drop(columns=exclude_cols).columns:\n",
    "    if full_df[col].nunique() > 2:  # continuous\n",
    "        try:\n",
    "            corr, _ = pointbiserialr(full_df[col], y)\n",
    "            corrs[col] = corr\n",
    "        except Exception:\n",
    "            pass\n",
    "    else:  # binary\n",
    "        corr, _ = spearmanr(full_df[col], y)\n",
    "        corrs[col] = corr\n",
    "\n",
    "corr_series = pd.Series(corrs).sort_values(key=lambda x: abs(x), ascending=False)\n",
    "\n",
    "print(\"Top 15 features by correlation with target:\\n\")\n",
    "display(corr_series.head(15))\n"
   ]
  },
  {
   "cell_type": "code",
   "execution_count": 37,
   "id": "93a7258e",
   "metadata": {},
   "outputs": [
    {
     "name": "stdout",
     "output_type": "stream",
     "text": [
      "Top 15 binary features by Chi² test:\n",
      "\n"
     ]
    },
    {
     "data": {
      "text/plain": [
       "any_maint           54,212.83\n",
       "comp4_maint         13,410.26\n",
       "comp3_maint         12,332.68\n",
       "comp1_maint         10,142.07\n",
       "comp2_maint          8,287.45\n",
       "any_maint_last24h    1,766.52\n",
       "model1                  31.28\n",
       "model4                  14.67\n",
       "model2                  11.68\n",
       "model3                   6.25\n",
       "error5                   1.72\n",
       "error2                   0.81\n",
       "any_error_last24h        0.67\n",
       "error4                   0.60\n",
       "error3                   0.14\n",
       "dtype: float64"
      ]
     },
     "metadata": {},
     "output_type": "display_data"
    }
   ],
   "source": [
    "from sklearn.feature_selection import chi2\n",
    "from sklearn.preprocessing import MinMaxScaler\n",
    "\n",
    "binary_cols = [c for c in full_df.columns \n",
    "               if full_df[c].nunique() <= 2 and c not in exclude_cols]\n",
    "\n",
    "X_bin = full_df[binary_cols]\n",
    "y = full_df[\"any_fail\"]\n",
    "\n",
    "# Chi² necesita datos no negativos\n",
    "scaler = MinMaxScaler()\n",
    "X_bin_scaled = scaler.fit_transform(X_bin)\n",
    "\n",
    "chi_scores, pvals = chi2(X_bin_scaled, y)\n",
    "chi_series = pd.Series(chi_scores, index=binary_cols).sort_values(ascending=False)\n",
    "\n",
    "print(\"Top 15 binary features by Chi² test:\\n\")\n",
    "display(chi_series.head(15))\n"
   ]
  },
  {
   "cell_type": "code",
   "execution_count": 38,
   "id": "c638e819",
   "metadata": {},
   "outputs": [
    {
     "name": "stdout",
     "output_type": "stream",
     "text": [
      "✅ Processed dataset saved successfully!\n"
     ]
    }
   ],
   "source": [
    "# Save as Parquet (preferred: smaller + preserves datatypes)\n",
    "full_df.to_parquet(\"../data/processed/pdm_features.parquet\", index=False)\n",
    "\n",
    "print(\"✅ Processed dataset saved successfully!\")"
   ]
  }
 ],
 "metadata": {
  "kernelspec": {
   "display_name": "walmart",
   "language": "python",
   "name": "python3"
  },
  "language_info": {
   "codemirror_mode": {
    "name": "ipython",
    "version": 3
   },
   "file_extension": ".py",
   "mimetype": "text/x-python",
   "name": "python",
   "nbconvert_exporter": "python",
   "pygments_lexer": "ipython3",
   "version": "3.13.7"
  }
 },
 "nbformat": 4,
 "nbformat_minor": 5
}
