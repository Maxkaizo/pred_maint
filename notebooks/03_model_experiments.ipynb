{
 "cells": [
  {
   "cell_type": "markdown",
   "id": "b1ee5c1c",
   "metadata": {},
   "source": [
    "# Training Notebook – Predictive Maintenance\n",
    "\n",
    "This notebook focuses on the **model training** stage.  \n",
    "We’ll start from the enriched dataset produced in the FE notebook and build a baseline, compare models, and save artifacts for orchestration.\n"
   ]
  },
  {
   "cell_type": "markdown",
   "id": "15e4150b",
   "metadata": {},
   "source": [
    "## Action Plan\n",
    "\n",
    "1. **Load enriched dataset** (single table with telemetry, errors, maintenance, failures, machines).\n",
    "2. **Temporal split** → train, val, test.\n",
    "3. **Target engineering** → `any_fail_future` with gap = 4h and horizon = 2h.\n",
    "4. **Baseline model** → Logistic Regression or Decision Tree.\n",
    "5. **Model comparison** → LightGBM, CatBoost, Random Forest.\n",
    "6. **Hyperparameter Tuning**."
   ]
  },
  {
   "cell_type": "markdown",
   "id": "f74843f8",
   "metadata": {},
   "source": [
    "## Import libraries and set preferences"
   ]
  },
  {
   "cell_type": "code",
   "execution_count": 1,
   "id": "3e64bbc1",
   "metadata": {},
   "outputs": [],
   "source": [
    "# ================================\n",
    "# Core Libraries\n",
    "# ================================\n",
    "import pandas as pd\n",
    "import numpy as np\n",
    "from pathlib import Path\n",
    "\n",
    "# ================================\n",
    "# Visualization\n",
    "# ================================\n",
    "import matplotlib.pyplot as plt\n",
    "import matplotlib.dates as mdates\n",
    "\n",
    "# ================================\n",
    "# Time Series Utilities\n",
    "# ================================\n",
    "from pandas.tseries.frequencies import to_offset\n",
    "\n",
    "# ================================\n",
    "# Modeling: Baselines & ML Models\n",
    "# ================================\n",
    "from sklearn.dummy import DummyClassifier\n",
    "from sklearn.linear_model import LogisticRegression\n",
    "import lightgbm as lgb\n",
    "from catboost import CatBoostClassifier\n",
    "\n",
    "# ================================\n",
    "# Model Evaluation & Metrics\n",
    "# ================================\n",
    "from sklearn.metrics import (\n",
    "    classification_report,\n",
    "    f1_score,\n",
    "    average_precision_score,\n",
    "    precision_recall_curve,\n",
    "    roc_curve,\n",
    "    auc,\n",
    ")\n",
    "\n",
    "# ================================\n",
    "# Hyperparameter Optimization\n",
    "# ================================\n",
    "from hyperopt import fmin, tpe, hp, Trials, STATUS_OK"
   ]
  },
  {
   "cell_type": "code",
   "execution_count": 2,
   "id": "9296cdcb",
   "metadata": {},
   "outputs": [],
   "source": [
    "# Reproducibility & display\n",
    "RANDOM_SEED = 42\n",
    "np.random.seed(RANDOM_SEED)\n",
    "pd.set_option('display.float_format', '{:,.4f}'.format)\n",
    "pd.options.display.max_columns = 120\n",
    "pd.options.display.max_rows = 50"
   ]
  },
  {
   "cell_type": "code",
   "execution_count": 3,
   "id": "b3e5e41f",
   "metadata": {},
   "outputs": [
    {
     "data": {
      "text/plain": [
       "(PosixPath('../data/processed'), PosixPath('artifacts'))"
      ]
     },
     "execution_count": 3,
     "metadata": {},
     "output_type": "execute_result"
    }
   ],
   "source": [
    "# Paths\n",
    "DATA_DIR = Path(\"../data/processed\")\n",
    "ARTIFACTS_DIR = Path(\"artifacts\")\n",
    "ARTIFACTS_DIR.mkdir(parents=True, exist_ok=True)\n",
    "\n",
    "DATA_DIR, ARTIFACTS_DIR"
   ]
  },
  {
   "cell_type": "markdown",
   "id": "c440ddda",
   "metadata": {},
   "source": [
    "---"
   ]
  },
  {
   "cell_type": "markdown",
   "id": "e0735ab7",
   "metadata": {},
   "source": [
    "## Load file"
   ]
  },
  {
   "cell_type": "code",
   "execution_count": 4,
   "id": "b3f409c3",
   "metadata": {},
   "outputs": [
    {
     "name": "stdout",
     "output_type": "stream",
     "text": [
      "Shape: (876000, 47)\n"
     ]
    },
    {
     "data": {
      "text/html": [
       "<div>\n",
       "<style scoped>\n",
       "    .dataframe tbody tr th:only-of-type {\n",
       "        vertical-align: middle;\n",
       "    }\n",
       "\n",
       "    .dataframe tbody tr th {\n",
       "        vertical-align: top;\n",
       "    }\n",
       "\n",
       "    .dataframe thead th {\n",
       "        text-align: right;\n",
       "    }\n",
       "</style>\n",
       "<table border=\"1\" class=\"dataframe\">\n",
       "  <thead>\n",
       "    <tr style=\"text-align: right;\">\n",
       "      <th></th>\n",
       "      <th>datetime</th>\n",
       "      <th>machineID</th>\n",
       "      <th>volt</th>\n",
       "      <th>rotate</th>\n",
       "      <th>pressure</th>\n",
       "      <th>vibration</th>\n",
       "      <th>model1</th>\n",
       "      <th>model2</th>\n",
       "      <th>model3</th>\n",
       "      <th>model4</th>\n",
       "      <th>error1</th>\n",
       "      <th>error2</th>\n",
       "      <th>error3</th>\n",
       "      <th>error4</th>\n",
       "      <th>error5</th>\n",
       "      <th>comp1_maint</th>\n",
       "      <th>comp2_maint</th>\n",
       "      <th>comp3_maint</th>\n",
       "      <th>comp4_maint</th>\n",
       "      <th>comp1_fail</th>\n",
       "      <th>comp2_fail</th>\n",
       "      <th>comp3_fail</th>\n",
       "      <th>comp4_fail</th>\n",
       "      <th>hour</th>\n",
       "      <th>dayofweek</th>\n",
       "      <th>month</th>\n",
       "      <th>hour_sin</th>\n",
       "      <th>hour_cos</th>\n",
       "      <th>dayofweek_sin</th>\n",
       "      <th>dayofweek_cos</th>\n",
       "      <th>volt_lag1</th>\n",
       "      <th>volt_mean24h</th>\n",
       "      <th>volt_std24h</th>\n",
       "      <th>rotate_lag1</th>\n",
       "      <th>rotate_mean24h</th>\n",
       "      <th>rotate_std24h</th>\n",
       "      <th>pressure_lag1</th>\n",
       "      <th>pressure_mean24h</th>\n",
       "      <th>pressure_std24h</th>\n",
       "      <th>vibration_lag1</th>\n",
       "      <th>vibration_mean24h</th>\n",
       "      <th>vibration_std24h</th>\n",
       "      <th>any_error</th>\n",
       "      <th>any_maint</th>\n",
       "      <th>any_error_last24h</th>\n",
       "      <th>any_maint_last24h</th>\n",
       "      <th>any_fail</th>\n",
       "    </tr>\n",
       "  </thead>\n",
       "  <tbody>\n",
       "    <tr>\n",
       "      <th>0</th>\n",
       "      <td>2015-01-01 07:00:00</td>\n",
       "      <td>1</td>\n",
       "      <td>162.8792</td>\n",
       "      <td>402.7475</td>\n",
       "      <td>95.4605</td>\n",
       "      <td>43.4140</td>\n",
       "      <td>0.0000</td>\n",
       "      <td>0.0000</td>\n",
       "      <td>1.0000</td>\n",
       "      <td>0.0000</td>\n",
       "      <td>0.0000</td>\n",
       "      <td>0.0000</td>\n",
       "      <td>0.0000</td>\n",
       "      <td>0.0000</td>\n",
       "      <td>0.0000</td>\n",
       "      <td>0.0000</td>\n",
       "      <td>0.0000</td>\n",
       "      <td>0.0000</td>\n",
       "      <td>0.0000</td>\n",
       "      <td>0.0000</td>\n",
       "      <td>0.0000</td>\n",
       "      <td>0.0000</td>\n",
       "      <td>0.0000</td>\n",
       "      <td>7</td>\n",
       "      <td>3</td>\n",
       "      <td>1</td>\n",
       "      <td>0.9659</td>\n",
       "      <td>-0.2588</td>\n",
       "      <td>0.4339</td>\n",
       "      <td>-0.9010</td>\n",
       "      <td>176.2179</td>\n",
       "      <td>169.5485</td>\n",
       "      <td>9.4318</td>\n",
       "      <td>418.5041</td>\n",
       "      <td>410.6258</td>\n",
       "      <td>11.1416</td>\n",
       "      <td>113.0779</td>\n",
       "      <td>104.2692</td>\n",
       "      <td>12.4574</td>\n",
       "      <td>45.0877</td>\n",
       "      <td>44.2508</td>\n",
       "      <td>1.1835</td>\n",
       "      <td>0</td>\n",
       "      <td>0</td>\n",
       "      <td>0.0000</td>\n",
       "      <td>0.0000</td>\n",
       "      <td>0</td>\n",
       "    </tr>\n",
       "    <tr>\n",
       "      <th>1</th>\n",
       "      <td>2015-01-01 08:00:00</td>\n",
       "      <td>1</td>\n",
       "      <td>170.9899</td>\n",
       "      <td>527.3498</td>\n",
       "      <td>75.2379</td>\n",
       "      <td>34.1788</td>\n",
       "      <td>0.0000</td>\n",
       "      <td>0.0000</td>\n",
       "      <td>1.0000</td>\n",
       "      <td>0.0000</td>\n",
       "      <td>0.0000</td>\n",
       "      <td>0.0000</td>\n",
       "      <td>0.0000</td>\n",
       "      <td>0.0000</td>\n",
       "      <td>0.0000</td>\n",
       "      <td>0.0000</td>\n",
       "      <td>0.0000</td>\n",
       "      <td>0.0000</td>\n",
       "      <td>0.0000</td>\n",
       "      <td>0.0000</td>\n",
       "      <td>0.0000</td>\n",
       "      <td>0.0000</td>\n",
       "      <td>0.0000</td>\n",
       "      <td>8</td>\n",
       "      <td>3</td>\n",
       "      <td>1</td>\n",
       "      <td>0.8660</td>\n",
       "      <td>-0.5000</td>\n",
       "      <td>0.4339</td>\n",
       "      <td>-0.9010</td>\n",
       "      <td>162.8792</td>\n",
       "      <td>170.0290</td>\n",
       "      <td>6.7210</td>\n",
       "      <td>402.7475</td>\n",
       "      <td>449.5338</td>\n",
       "      <td>67.8496</td>\n",
       "      <td>95.4605</td>\n",
       "      <td>94.5921</td>\n",
       "      <td>18.9350</td>\n",
       "      <td>43.4140</td>\n",
       "      <td>40.8935</td>\n",
       "      <td>5.8750</td>\n",
       "      <td>0</td>\n",
       "      <td>0</td>\n",
       "      <td>0.0000</td>\n",
       "      <td>0.0000</td>\n",
       "      <td>0</td>\n",
       "    </tr>\n",
       "    <tr>\n",
       "      <th>2</th>\n",
       "      <td>2015-01-01 09:00:00</td>\n",
       "      <td>1</td>\n",
       "      <td>162.4628</td>\n",
       "      <td>346.1493</td>\n",
       "      <td>109.2486</td>\n",
       "      <td>41.1221</td>\n",
       "      <td>0.0000</td>\n",
       "      <td>0.0000</td>\n",
       "      <td>1.0000</td>\n",
       "      <td>0.0000</td>\n",
       "      <td>0.0000</td>\n",
       "      <td>0.0000</td>\n",
       "      <td>0.0000</td>\n",
       "      <td>0.0000</td>\n",
       "      <td>0.0000</td>\n",
       "      <td>0.0000</td>\n",
       "      <td>0.0000</td>\n",
       "      <td>0.0000</td>\n",
       "      <td>0.0000</td>\n",
       "      <td>0.0000</td>\n",
       "      <td>0.0000</td>\n",
       "      <td>0.0000</td>\n",
       "      <td>0.0000</td>\n",
       "      <td>9</td>\n",
       "      <td>3</td>\n",
       "      <td>1</td>\n",
       "      <td>0.7071</td>\n",
       "      <td>-0.7071</td>\n",
       "      <td>0.4339</td>\n",
       "      <td>-0.9010</td>\n",
       "      <td>170.9899</td>\n",
       "      <td>168.1375</td>\n",
       "      <td>6.6653</td>\n",
       "      <td>527.3498</td>\n",
       "      <td>423.6877</td>\n",
       "      <td>75.7703</td>\n",
       "      <td>75.2379</td>\n",
       "      <td>98.2562</td>\n",
       "      <td>17.1092</td>\n",
       "      <td>34.1788</td>\n",
       "      <td>40.9507</td>\n",
       "      <td>4.7983</td>\n",
       "      <td>0</td>\n",
       "      <td>0</td>\n",
       "      <td>0.0000</td>\n",
       "      <td>0.0000</td>\n",
       "      <td>0</td>\n",
       "    </tr>\n",
       "  </tbody>\n",
       "</table>\n",
       "</div>"
      ],
      "text/plain": [
       "             datetime  machineID     volt   rotate  pressure  vibration  \\\n",
       "0 2015-01-01 07:00:00          1 162.8792 402.7475   95.4605    43.4140   \n",
       "1 2015-01-01 08:00:00          1 170.9899 527.3498   75.2379    34.1788   \n",
       "2 2015-01-01 09:00:00          1 162.4628 346.1493  109.2486    41.1221   \n",
       "\n",
       "   model1  model2  model3  model4  error1  error2  error3  error4  error5  \\\n",
       "0  0.0000  0.0000  1.0000  0.0000  0.0000  0.0000  0.0000  0.0000  0.0000   \n",
       "1  0.0000  0.0000  1.0000  0.0000  0.0000  0.0000  0.0000  0.0000  0.0000   \n",
       "2  0.0000  0.0000  1.0000  0.0000  0.0000  0.0000  0.0000  0.0000  0.0000   \n",
       "\n",
       "   comp1_maint  comp2_maint  comp3_maint  comp4_maint  comp1_fail  comp2_fail  \\\n",
       "0       0.0000       0.0000       0.0000       0.0000      0.0000      0.0000   \n",
       "1       0.0000       0.0000       0.0000       0.0000      0.0000      0.0000   \n",
       "2       0.0000       0.0000       0.0000       0.0000      0.0000      0.0000   \n",
       "\n",
       "   comp3_fail  comp4_fail  hour  dayofweek  month  hour_sin  hour_cos  \\\n",
       "0      0.0000      0.0000     7          3      1    0.9659   -0.2588   \n",
       "1      0.0000      0.0000     8          3      1    0.8660   -0.5000   \n",
       "2      0.0000      0.0000     9          3      1    0.7071   -0.7071   \n",
       "\n",
       "   dayofweek_sin  dayofweek_cos  volt_lag1  volt_mean24h  volt_std24h  \\\n",
       "0         0.4339        -0.9010   176.2179      169.5485       9.4318   \n",
       "1         0.4339        -0.9010   162.8792      170.0290       6.7210   \n",
       "2         0.4339        -0.9010   170.9899      168.1375       6.6653   \n",
       "\n",
       "   rotate_lag1  rotate_mean24h  rotate_std24h  pressure_lag1  \\\n",
       "0     418.5041        410.6258        11.1416       113.0779   \n",
       "1     402.7475        449.5338        67.8496        95.4605   \n",
       "2     527.3498        423.6877        75.7703        75.2379   \n",
       "\n",
       "   pressure_mean24h  pressure_std24h  vibration_lag1  vibration_mean24h  \\\n",
       "0          104.2692          12.4574         45.0877            44.2508   \n",
       "1           94.5921          18.9350         43.4140            40.8935   \n",
       "2           98.2562          17.1092         34.1788            40.9507   \n",
       "\n",
       "   vibration_std24h  any_error  any_maint  any_error_last24h  \\\n",
       "0            1.1835          0          0             0.0000   \n",
       "1            5.8750          0          0             0.0000   \n",
       "2            4.7983          0          0             0.0000   \n",
       "\n",
       "   any_maint_last24h  any_fail  \n",
       "0             0.0000         0  \n",
       "1             0.0000         0  \n",
       "2             0.0000         0  "
      ]
     },
     "metadata": {},
     "output_type": "display_data"
    }
   ],
   "source": [
    "enriched_path = DATA_DIR / \"pdm_features.parquet\"\n",
    "assert enriched_path.exists(), f\"File not found: {enriched_path}\"\n",
    "\n",
    "df = pd.read_parquet(enriched_path)\n",
    "\n",
    "# Ensure proper types and ordering\n",
    "if df[\"datetime\"].dtype.kind not in (\"M\",):  # not datetime64\n",
    "    df[\"datetime\"] = pd.to_datetime(df[\"datetime\"], utc=False)\n",
    "\n",
    "df = df.sort_values([\"machineID\", \"datetime\"]).reset_index(drop=True)\n",
    "\n",
    "print(\"Shape:\", df.shape)\n",
    "display(df.head(3))\n"
   ]
  },
  {
   "cell_type": "markdown",
   "id": "e567430f",
   "metadata": {},
   "source": [
    "* Brief validation"
   ]
  },
  {
   "cell_type": "code",
   "execution_count": 5,
   "id": "ff186fab",
   "metadata": {},
   "outputs": [
    {
     "name": "stdout",
     "output_type": "stream",
     "text": [
      "\n",
      "Columns: ['datetime', 'machineID', 'volt', 'rotate', 'pressure', 'vibration', 'model1', 'model2', 'model3', 'model4', 'error1', 'error2', 'error3', 'error4', 'error5', 'comp1_maint', 'comp2_maint', 'comp3_maint', 'comp4_maint', 'comp1_fail', 'comp2_fail', 'comp3_fail', 'comp4_fail', 'hour', 'dayofweek', 'month', 'hour_sin', 'hour_cos', 'dayofweek_sin', 'dayofweek_cos', 'volt_lag1', 'volt_mean24h', 'volt_std24h', 'rotate_lag1', 'rotate_mean24h', 'rotate_std24h', 'pressure_lag1', 'pressure_mean24h', 'pressure_std24h', 'vibration_lag1', 'vibration_mean24h', 'vibration_std24h', 'any_error', 'any_maint', 'any_error_last24h', 'any_maint_last24h', 'any_fail']\n",
      "\n",
      "Time range: 2015-01-01 07:00:00 → 2016-01-01 06:00:00\n",
      "\n",
      "Machines: 100\n",
      "\n",
      "Non-zero NA counts:\n"
     ]
    },
    {
     "data": {
      "text/html": [
       "<div>\n",
       "<style scoped>\n",
       "    .dataframe tbody tr th:only-of-type {\n",
       "        vertical-align: middle;\n",
       "    }\n",
       "\n",
       "    .dataframe tbody tr th {\n",
       "        vertical-align: top;\n",
       "    }\n",
       "\n",
       "    .dataframe thead th {\n",
       "        text-align: right;\n",
       "    }\n",
       "</style>\n",
       "<table border=\"1\" class=\"dataframe\">\n",
       "  <thead>\n",
       "    <tr style=\"text-align: right;\">\n",
       "      <th></th>\n",
       "      <th>na_count</th>\n",
       "    </tr>\n",
       "  </thead>\n",
       "  <tbody>\n",
       "  </tbody>\n",
       "</table>\n",
       "</div>"
      ],
      "text/plain": [
       "Empty DataFrame\n",
       "Columns: [na_count]\n",
       "Index: []"
      ]
     },
     "metadata": {},
     "output_type": "display_data"
    },
    {
     "name": "stdout",
     "output_type": "stream",
     "text": [
      "\n",
      "Duplicate rows by ['machineID','datetime']: 0\n"
     ]
    }
   ],
   "source": [
    "# Basic schema & health checks\n",
    "print(\"\\nColumns:\", list(df.columns))\n",
    "print(\"\\nTime range:\", df[\"datetime\"].min(), \"→\", df[\"datetime\"].max())\n",
    "print(\"\\nMachines:\", df[\"machineID\"].nunique())\n",
    "\n",
    "# Nulls\n",
    "na = df.isna().sum()\n",
    "na_nonzero = na[na > 0].sort_values(ascending=False)\n",
    "print(\"\\nNon-zero NA counts:\")\n",
    "display(na_nonzero.to_frame(\"na_count\").head(20))\n",
    "\n",
    "# Duplicate timestamps per machine\n",
    "dup_count = df.duplicated(subset=[\"machineID\", \"datetime\"]).sum()\n",
    "print(\"\\nDuplicate rows by ['machineID','datetime']:\", dup_count)\n"
   ]
  },
  {
   "cell_type": "markdown",
   "id": "3e36225e",
   "metadata": {},
   "source": [
    "---"
   ]
  },
  {
   "cell_type": "markdown",
   "id": "d04cd2a6",
   "metadata": {},
   "source": [
    "## Temporal Split"
   ]
  },
  {
   "cell_type": "code",
   "execution_count": 6,
   "id": "df75025f",
   "metadata": {},
   "outputs": [
    {
     "name": "stdout",
     "output_type": "stream",
     "text": [
      "Train: 2015-01-01 07:00:00 → 2015-09-30 23:00:00 | 654500\n",
      "Val:   2015-10-01 00:00:00 → 2015-11-30 23:00:00 | 146400\n",
      "Test:  2015-12-01 00:00:00 → 2016-01-01 06:00:00 | 75100\n"
     ]
    }
   ],
   "source": [
    "# Temporal split into train / val / test\n",
    "#   - Train: 2015-01 to 2015-09\n",
    "#   - Val:   2015-10 to 2015-11\n",
    "#   - Test:  2015-12\n",
    "\n",
    "cut_train = \"2015-10-01\"\n",
    "cut_val   = \"2015-12-01\"\n",
    "\n",
    "train = df[df[\"datetime\"] < cut_train].copy()\n",
    "val   = df[(df[\"datetime\"] >= cut_train) & (df[\"datetime\"] < cut_val)].copy()\n",
    "test  = df[df[\"datetime\"] >= cut_val].copy()\n",
    "\n",
    "print(\"Train:\", train[\"datetime\"].min(), \"→\", train[\"datetime\"].max(), \"|\", len(train))\n",
    "print(\"Val:  \", val[\"datetime\"].min(), \"→\", val[\"datetime\"].max(), \"|\", len(val))\n",
    "print(\"Test: \", test[\"datetime\"].min(), \"→\", test[\"datetime\"].max(), \"|\", len(test))\n"
   ]
  },
  {
   "cell_type": "markdown",
   "id": "6f0d5d11",
   "metadata": {},
   "source": [
    "## Visualize Temporal Split"
   ]
  },
  {
   "cell_type": "code",
   "execution_count": 7,
   "id": "85bf384a",
   "metadata": {},
   "outputs": [
    {
     "data": {
      "image/png": "[encoded data removed]",
      "text/plain": [
       "<Figure size 1000x400 with 1 Axes>"
      ]
     },
     "metadata": {},
     "output_type": "display_data"
    }
   ],
   "source": [
    "# Count records per month\n",
    "df_counts = (\n",
    "    df.groupby(df[\"datetime\"].dt.to_period(\"M\"))\n",
    "      .size()\n",
    "      .reset_index(name=\"count\")\n",
    ")\n",
    "df_counts[\"datetime\"] = df_counts[\"datetime\"].dt.to_timestamp()\n",
    "\n",
    "# Mark split boundaries\n",
    "fig, ax = plt.subplots(figsize=(10,4))\n",
    "\n",
    "ax.bar(df_counts[\"datetime\"], df_counts[\"count\"], width=20, alpha=0.6, color=\"gray\", label=\"All\")\n",
    "\n",
    "# Highlight train/val/test ranges\n",
    "ax.axvspan(train[\"datetime\"].min(), train[\"datetime\"].max(), color=\"green\", alpha=0.2, label=\"Train\")\n",
    "ax.axvspan(val[\"datetime\"].min(), val[\"datetime\"].max(), color=\"orange\", alpha=0.2, label=\"Validation\")\n",
    "ax.axvspan(test[\"datetime\"].min(), test[\"datetime\"].max(), color=\"red\", alpha=0.2, label=\"Test\")\n",
    "\n",
    "# Format x-axis\n",
    "ax.xaxis.set_major_locator(mdates.MonthLocator(interval=1))\n",
    "ax.xaxis.set_major_formatter(mdates.DateFormatter(\"%Y-%m\"))\n",
    "plt.xticks(rotation=45)\n",
    "\n",
    "ax.set_ylabel(\"Record count\")\n",
    "ax.set_title(\"Temporal Split of Dataset\")\n",
    "ax.legend()\n",
    "\n",
    "plt.show()\n"
   ]
  },
  {
   "cell_type": "markdown",
   "id": "2869318a",
   "metadata": {},
   "source": [
    "---"
   ]
  },
  {
   "cell_type": "markdown",
   "id": "d64f33dd",
   "metadata": {},
   "source": [
    "## Target Engineering"
   ]
  },
  {
   "cell_type": "markdown",
   "id": "d4534c83",
   "metadata": {},
   "source": [
    "* Since our goal is to predict future failure events, we must create a target that captures whether a failure will occur within a specified upcoming time window. To do this, we use historical data as a reference and define the target based on two parameters: the gap (a buffer period between the observation and the target window) and the horizon (the length of the prediction window). This setup helps us avoid data leakage, since the target is derived strictly from future events, and the data splits are carefully isolated before training.*"
   ]
  },
  {
   "cell_type": "code",
   "execution_count": 8,
   "id": "e2b5a870",
   "metadata": {},
   "outputs": [],
   "source": [
    "def create_future_target(df, gap=\"4h\", horizon=\"2h\"):\n",
    "    \"\"\"\n",
    "    Creates a binary target column 'any_fail_future' that indicates\n",
    "    if a machine will fail in the near future.\n",
    "\n",
    "    Parameters\n",
    "    ----------\n",
    "    df : pd.DataFrame\n",
    "        Must contain ['machineID', 'datetime', 'failure'] where 'failure' is 1/0.\n",
    "    gap : str\n",
    "        Time to skip after current timestamp before starting horizon (e.g., '4h').\n",
    "    horizon : str\n",
    "        Time window after gap in which to look for failures (e.g., '2h').\n",
    "\n",
    "    Returns\n",
    "    -------\n",
    "    df : pd.DataFrame\n",
    "        Copy of df with new column 'any_fail_future'.\n",
    "    \"\"\"\n",
    "    df = df.copy()\n",
    "    df[\"any_fail_future\"] = 0\n",
    "\n",
    "    gap_offset = to_offset(gap)\n",
    "    horizon_offset = to_offset(horizon)\n",
    "\n",
    "    # For each machine, mark failures in the (t+gap, t+gap+horizon] window\n",
    "    for mid, group in df.groupby(\"machineID\"):\n",
    "        fails = group.loc[group[\"any_fail\"] == 1, \"datetime\"]\n",
    "        if fails.empty:\n",
    "            continue\n",
    "\n",
    "        for t_fail in fails:\n",
    "            window_start = t_fail - horizon_offset - gap_offset\n",
    "            window_end   = t_fail - gap_offset\n",
    "            mask = (group[\"datetime\"] > window_start) & (group[\"datetime\"] <= window_end)\n",
    "            df.loc[mask & (df[\"machineID\"] == mid), \"any_fail_future\"] = 1\n",
    "\n",
    "    return df"
   ]
  },
  {
   "cell_type": "markdown",
   "id": "ece4fd54",
   "metadata": {},
   "source": [
    "Target Engineering – Logic (pseudocode)\n",
    "\n",
    "\n",
    "For each machine:\n",
    "- sort records by datetime\n",
    "- set any\\_fail\\_future = 0 for all rows\n",
    "- for each failure timestamp t\\_fail:\n",
    "- define window = (t\\_fail - gap - horizon, t\\_fail - gap)\n",
    "- mark rows in this window as any\\_fail\\_future = 1\n",
    "\n"
   ]
  },
  {
   "cell_type": "code",
   "execution_count": 9,
   "id": "983951de",
   "metadata": {},
   "outputs": [],
   "source": [
    "train = create_future_target(train, gap=\"4h\", horizon=\"2h\")\n",
    "val   = create_future_target(val, gap=\"4h\", horizon=\"2h\")\n",
    "test  = create_future_target(test, gap=\"4h\", horizon=\"2h\")"
   ]
  },
  {
   "cell_type": "code",
   "execution_count": 10,
   "id": "bc8ffa2e",
   "metadata": {},
   "outputs": [
    {
     "name": "stdout",
     "output_type": "stream",
     "text": [
      "Target Distribution:\n",
      "Train:\n",
      " any_fail_future\n",
      "0   0.9983\n",
      "1   0.0017\n",
      "Name: proportion, dtype: float64\n",
      "Val:\n",
      " any_fail_future\n",
      "0   0.9984\n",
      "1   0.0016\n",
      "Name: proportion, dtype: float64\n",
      "Test:\n",
      " any_fail_future\n",
      "0   0.9985\n",
      "1   0.0015\n",
      "Name: proportion, dtype: float64\n"
     ]
    }
   ],
   "source": [
    "print(\"Target Distribution:\")\n",
    "print(\"Train:\\n\", train[\"any_fail_future\"].value_counts(normalize=True))\n",
    "print(\"Val:\\n\",   val[\"any_fail_future\"].value_counts(normalize=True))\n",
    "print(\"Test:\\n\",  test[\"any_fail_future\"].value_counts(normalize=True))"
   ]
  },
  {
   "cell_type": "markdown",
   "id": "94abcea0",
   "metadata": {},
   "source": [
    "---"
   ]
  },
  {
   "cell_type": "markdown",
   "id": "d3e14c8a",
   "metadata": {},
   "source": [
    "## Modeling Baseline\n",
    "\n",
    "We will begin by establishing a baseline through a simple comparison of four models. This provides a reference point for both performance and practical utility. The models included are:\n",
    "\n",
    "- **Dummy Classifier (random predictions)** — to serve as a naive benchmark.  \n",
    "- **Logistic Regression** — as a simple linear model.  \n",
    "- **LightGBM** — as a gradient boosting decision tree implementation.  \n",
    "- **CatBoost** — as another advanced gradient boosting algorithm, particularly effective with categorical features.  \n"
   ]
  },
  {
   "cell_type": "code",
   "execution_count": 23,
   "id": "00ac4c13",
   "metadata": {},
   "outputs": [],
   "source": [
    "# ---------------------------\n",
    "# Feature Selection\n",
    "# ---------------------------\n",
    "# Exclude identifiers and target-related columns to prevent data leakage\n",
    "exclude_cols = [\n",
    "    \"datetime\",          # timestamp (not predictive, only contextual)\n",
    "    \"machineID\",         # machine identifier\n",
    "    \"any_fail\",          # current failure (label, not a feature)\n",
    "    \"any_fail_future\",   # target variable\n",
    "] + [c for c in train.columns if c.endswith(\"_fail\")]  # component-level failures\n",
    "\n",
    "features = [c for c in train.columns if c not in exclude_cols]\n",
    "\n",
    "# ---------------------------\n",
    "# Train / Validation Split\n",
    "# ---------------------------\n",
    "# Define predictors (X) and target (y) for training and validation sets\n",
    "X_train, y_train = train[features], train[\"any_fail_future\"]\n",
    "X_val, y_val     = val[features], val[\"any_fail_future\"]\n"
   ]
  },
  {
   "cell_type": "markdown",
   "id": "e884121f",
   "metadata": {},
   "source": [
    "### Dummy (Random) Classifier"
   ]
  },
  {
   "cell_type": "code",
   "execution_count": 24,
   "id": "dd56b4c0",
   "metadata": {},
   "outputs": [
    {
     "name": "stdout",
     "output_type": "stream",
     "text": [
      "Validation performance (Dummy Classifier):\n",
      "\n",
      "              precision    recall  f1-score   support\n",
      "\n",
      "           0     0.9984    0.9983    0.9984    146170\n",
      "           1     0.0000    0.0000    0.0000       230\n",
      "\n",
      "    accuracy                         0.9967    146400\n",
      "   macro avg     0.4992    0.4991    0.4992    146400\n",
      "weighted avg     0.9969    0.9967    0.9968    146400\n",
      "\n"
     ]
    }
   ],
   "source": [
    "# Dummy classifier (stratified: respects class distribution)\n",
    "dummy = DummyClassifier(strategy=\"stratified\", random_state=RANDOM_SEED)\n",
    "dummy.fit(X_train, y_train)\n",
    "\n",
    "y_pred_dummy = dummy.predict(X_val)\n",
    "\n",
    "print(\"Validation performance (Dummy Classifier):\\n\")\n",
    "print(classification_report(y_val, y_pred_dummy, digits=4))"
   ]
  },
  {
   "cell_type": "markdown",
   "id": "b5f17511",
   "metadata": {},
   "source": [
    "### Logistic Regression"
   ]
  },
  {
   "cell_type": "code",
   "execution_count": 17,
   "id": "7411391e",
   "metadata": {},
   "outputs": [
    {
     "name": "stdout",
     "output_type": "stream",
     "text": [
      "Validation performance (baseline logistic regression):\n",
      "\n",
      "              precision    recall  f1-score   support\n",
      "\n",
      "           0     1.0000    0.9662    0.9828    146170\n",
      "           1     0.0435    0.9783    0.0834       230\n",
      "\n",
      "    accuracy                         0.9662    146400\n",
      "   macro avg     0.5218    0.9722    0.5331    146400\n",
      "weighted avg     0.9985    0.9662    0.9814    146400\n",
      "\n"
     ]
    },
    {
     "name": "stderr",
     "output_type": "stream",
     "text": [
      "/home/maxkaizo/miniconda3/envs/walmart/lib/python3.13/site-packages/sklearn/linear_model/_logistic.py:473: ConvergenceWarning: lbfgs failed to converge after 200 iteration(s) (status=1):\n",
      "STOP: TOTAL NO. OF ITERATIONS REACHED LIMIT\n",
      "\n",
      "Increase the number of iterations to improve the convergence (max_iter=200).\n",
      "You might also want to scale the data as shown in:\n",
      "    https://scikit-learn.org/stable/modules/preprocessing.html\n",
      "Please also refer to the documentation for alternative solver options:\n",
      "    https://scikit-learn.org/stable/modules/linear_model.html#logistic-regression\n",
      "  n_iter_i = _check_optimize_result(\n"
     ]
    }
   ],
   "source": [
    "# Baseline Logistic Regression\n",
    "baseline_model = LogisticRegression(max_iter=3000, random_state=RANDOM_SEED, class_weight=\"balanced\")\n",
    "baseline_model.fit(X_train, y_train)\n",
    "\n",
    "y_pred = baseline_model.predict(X_val)\n",
    "\n",
    "print(\"Validation performance (baseline logistic regression):\\n\")\n",
    "print(classification_report(y_val, y_pred, digits=4))"
   ]
  },
  {
   "cell_type": "markdown",
   "id": "eb4d181b",
   "metadata": {},
   "source": [
    "### LightGBM Classifier"
   ]
  },
  {
   "cell_type": "code",
   "execution_count": 18,
   "id": "203a753f",
   "metadata": {},
   "outputs": [
    {
     "name": "stdout",
     "output_type": "stream",
     "text": [
      "Training until validation scores don't improve for 50 rounds\n",
      "Early stopping, best iteration is:\n",
      "[1]\ttraining's binary_logloss: 0.041671\tvalid_1's binary_logloss: 0.0282605\n",
      "Validation performance (LightGBM):\n",
      "              precision    recall  f1-score   support\n",
      "\n",
      "           0     1.0000    0.9992    0.9996    146170\n",
      "           1     0.6686    0.9913    0.7986       230\n",
      "\n",
      "    accuracy                         0.9992    146400\n",
      "   macro avg     0.8343    0.9953    0.8991    146400\n",
      "weighted avg     0.9995    0.9992    0.9993    146400\n",
      "\n"
     ]
    }
   ],
   "source": [
    "# Adapt dataset to ligthgbm\n",
    "lgb_train = lgb.Dataset(X_train, label=y_train)\n",
    "lgb_val   = lgb.Dataset(X_val, label=y_val)\n",
    "\n",
    "params = {\n",
    "    \"objective\": \"binary\",\n",
    "    \"metric\": \"binary_logloss\",\n",
    "    \"verbosity\": -1,\n",
    "    \"is_unbalance\": True,\n",
    "    \"seed\": RANDOM_SEED\n",
    "}\n",
    "\n",
    "model_lgb = lgb.train(\n",
    "    params,\n",
    "    lgb_train,\n",
    "    valid_sets=[lgb_train, lgb_val],\n",
    "    num_boost_round=1000,\n",
    "    callbacks=[\n",
    "        lgb.early_stopping(stopping_rounds=50),\n",
    "        lgb.log_evaluation(100)\n",
    "    ]\n",
    ")\n",
    "\n",
    "# Predictions and evaluation\n",
    "y_pred_lgb = (model_lgb.predict(X_val) > 0.5).astype(int)\n",
    "\n",
    "print(\"Validation performance (LightGBM):\")\n",
    "print(classification_report(y_val, y_pred_lgb, digits=4))\n"
   ]
  },
  {
   "cell_type": "markdown",
   "id": "759873cd",
   "metadata": {},
   "source": [
    "### Catboost Classifier"
   ]
  },
  {
   "cell_type": "code",
   "execution_count": 19,
   "id": "96076e82",
   "metadata": {},
   "outputs": [
    {
     "name": "stdout",
     "output_type": "stream",
     "text": [
      "0:\tlearn: 0.9734063\ttest: 0.9902899\tbest: 0.9902899 (0)\ttotal: 137ms\tremaining: 4m 34s\n",
      "100:\tlearn: 0.9994134\ttest: 0.9994497\tbest: 0.9994497 (98)\ttotal: 6.89s\tremaining: 2m 9s\n",
      "200:\tlearn: 0.9995319\ttest: 0.9995116\tbest: 0.9995116 (177)\ttotal: 13.2s\tremaining: 1m 58s\n",
      "300:\tlearn: 0.9995717\ttest: 0.9995408\tbest: 0.9995408 (293)\ttotal: 19.3s\tremaining: 1m 48s\n",
      "Stopped by overfitting detector  (100 iterations wait)\n",
      "\n",
      "bestTest = 0.9995407576\n",
      "bestIteration = 293\n",
      "\n",
      "Shrink model to first 294 iterations.\n",
      "Validation performance (CatBoost):\n",
      "\n",
      "              precision    recall  f1-score   support\n",
      "\n",
      "           0     1.0000    0.9991    0.9996    146170\n",
      "           1     0.6461    1.0000    0.7850       230\n",
      "\n",
      "    accuracy                         0.9991    146400\n",
      "   macro avg     0.8230    0.9996    0.8923    146400\n",
      "weighted avg     0.9994    0.9991    0.9992    146400\n",
      "\n"
     ]
    }
   ],
   "source": [
    "# Handle class imbalance with class weights\n",
    "pos = int(y_train.sum())\n",
    "neg = len(y_train) - pos\n",
    "w0 = (len(y_train) / (2 * neg)) if neg > 0 else 1.0\n",
    "w1 = (len(y_train) / (2 * pos)) if pos > 0 else 1.0\n",
    "class_weights = [w0, w1]\n",
    "\n",
    "cat_model = CatBoostClassifier(\n",
    "    loss_function=\"Logloss\",\n",
    "    eval_metric=\"F1\",\n",
    "    iterations=2000,\n",
    "    learning_rate=0.05,\n",
    "    depth=6,\n",
    "    random_seed=RANDOM_SEED,\n",
    "    class_weights=class_weights,\n",
    "    verbose=100\n",
    ")\n",
    "\n",
    "cat_model.fit(\n",
    "    X_train, y_train,\n",
    "    eval_set=(X_val, y_val),\n",
    "    use_best_model=True,\n",
    "    early_stopping_rounds=100\n",
    ")\n",
    "\n",
    "y_pred_cat = cat_model.predict(X_val)\n",
    "\n",
    "print(\"Validation performance (CatBoost):\\n\")\n",
    "print(classification_report(y_val, y_pred_cat, digits=4))\n"
   ]
  },
  {
   "cell_type": "markdown",
   "id": "534f665d",
   "metadata": {},
   "source": [
    "---"
   ]
  },
  {
   "cell_type": "markdown",
   "id": "492a8af2",
   "metadata": {},
   "source": [
    "### Model Comparison\n",
    "\n",
    "- We'll evaluate the baseline models using both a ROC curve and a Precision-Recall curve.  \n",
    "- This is especially important since scenarios like this are typically **imbalanced**, which we already confirmed during our EDA process."
   ]
  },
  {
   "cell_type": "code",
   "execution_count": 26,
   "id": "8e6a5256",
   "metadata": {},
   "outputs": [
    {
     "data": {
      "image/png": "[encoded data removed]",
      "text/plain": [
       "<Figure size 1400x600 with 2 Axes>"
      ]
     },
     "metadata": {},
     "output_type": "display_data"
    }
   ],
   "source": [
    "# Collect models in a dict for cleaner iteration\n",
    "models = {\n",
    "    \"Dummy\": dummy,\n",
    "    \"LogReg\": baseline_model,\n",
    "    \"LightGBM\": model_lgb,\n",
    "    \"CatBoost\": cat_model,\n",
    "}\n",
    "\n",
    "plt.figure(figsize=(14, 6))\n",
    "\n",
    "# --- ROC Curve ---\n",
    "plt.subplot(1, 2, 1)\n",
    "for name, model in models.items():\n",
    "    if name == \"LightGBM\":\n",
    "        y_proba = model.predict(X_val)  # already probabilities\n",
    "    else:\n",
    "        y_proba = model.predict_proba(X_val)[:, 1]\n",
    "\n",
    "    fpr, tpr, _ = roc_curve(y_val, y_proba)\n",
    "    roc_auc = auc(fpr, tpr)\n",
    "    linestyle = \"--\" if name == \"Dummy\" else \"-\"\n",
    "    plt.plot(fpr, tpr, label=f\"{name} (AUC={roc_auc:.3f})\", linestyle=linestyle)\n",
    "\n",
    "plt.plot([0, 1], [0, 1], \"k--\", alpha=0.6)\n",
    "plt.xlabel(\"False Positive Rate\")\n",
    "plt.ylabel(\"True Positive Rate\")\n",
    "plt.title(\"ROC Curve Comparison (Validation Set)\")\n",
    "plt.legend()\n",
    "plt.grid(alpha=0.3)\n",
    "\n",
    "# --- Precision-Recall Curve ---\n",
    "plt.subplot(1, 2, 2)\n",
    "for name, model in models.items():\n",
    "    if name == \"LightGBM\":\n",
    "        y_proba = model.predict(X_val)\n",
    "    else:\n",
    "        y_proba = model.predict_proba(X_val)[:, 1]\n",
    "\n",
    "    prec, rec, _ = precision_recall_curve(y_val, y_proba)\n",
    "    ap = average_precision_score(y_val, y_proba)\n",
    "    linestyle = \"--\" if name == \"Dummy\" else \"-\"\n",
    "    plt.plot(rec, prec, label=f\"{name} (AP={ap:.3f})\", linestyle=linestyle)\n",
    "\n",
    "plt.xlabel(\"Recall\")\n",
    "plt.ylabel(\"Precision\")\n",
    "plt.title(\"Precision-Recall Curve Comparison (Validation Set)\")\n",
    "plt.legend()\n",
    "plt.grid(alpha=0.3)\n",
    "\n",
    "plt.tight_layout()\n",
    "plt.show()\n"
   ]
  },
  {
   "cell_type": "markdown",
   "id": "5226c022",
   "metadata": {},
   "source": [
    "### Summary of Findings\n",
    "\n",
    "**Key observations:**\n",
    "- **ROC curves**: not very informative in this imbalanced setting, as all strong models achieved AUC ≈ 1.0.  \n",
    "- **PR curves**: provided meaningful differentiation between models:  \n",
    "  - **Dummy**: no predictive power (AP ≈ 0.002).  \n",
    "  - **Logistic Regression**: moderate improvement over Dummy, but weak precision–recall trade-off (AP ≈ 0.31–0.47).  \n",
    "  - **LightGBM**: strong performance, with a good balance between precision and recall (AP ≈ 0.66–0.76).  \n",
    "  - **CatBoost**: consistently the best performer, maintaining higher precision across most recall levels (AP ≈ 0.87).  \n",
    "\n",
    "**Effect of imbalance handling:**  \n",
    "In earlier tests, the difference between models trained *with* and *without* class imbalance handling was minor, confirming that tree-based models are inherently robust to imbalance.  \n",
    "For this reason, we decided to keep imbalance handling during model evaluation for consistency. In a future iteration, we may also experiment with oversampling techniques such as **SMOTE**.\n"
   ]
  },
  {
   "cell_type": "markdown",
   "id": "860a86bc",
   "metadata": {},
   "source": [
    "---"
   ]
  },
  {
   "cell_type": "markdown",
   "id": "4efb99bd",
   "metadata": {},
   "source": [
    "## Hyperparameter Tuning\n",
    "\n",
    "- Now we'll perform hyperparameter optimization using **Hyperopt** only for the best performing models\n",
    "- For this iteration, we’ll define a modest search space to validate whether tuning provides meaningful improvements.  \n",
    "- A more exhaustive search and fine-grained optimization can be conducted in future iterations.\n"
   ]
  },
  {
   "cell_type": "markdown",
   "id": "d23194fd",
   "metadata": {},
   "source": [
    "### LigthGBM"
   ]
  },
  {
   "cell_type": "code",
   "execution_count": 27,
   "id": "9d1634b8",
   "metadata": {},
   "outputs": [
    {
     "name": "stdout",
     "output_type": "stream",
     "text": [
      "100%|██████████| 30/30 [04:19<00:00,  8.65s/trial, best loss: -0.850976228852068] \n",
      "Best LightGBM params: {'feature_fraction': np.float64(0.9895791786585809), 'learning_rate': np.float64(0.013248371090071454), 'min_child_samples': np.float64(46.0), 'num_leaves': np.float64(42.0)}\n",
      "\n",
      "Classification Report (Best LightGBM Model):\n",
      "              precision    recall  f1-score   support\n",
      "\n",
      "           0      1.000     1.000     1.000    146170\n",
      "           1      0.770     0.874     0.819       230\n",
      "\n",
      "    accuracy                          0.999    146400\n",
      "   macro avg      0.885     0.937     0.909    146400\n",
      "weighted avg      0.999     0.999     0.999    146400\n",
      "\n"
     ]
    }
   ],
   "source": [
    "# Define objective function for Hyperopt\n",
    "def objective_lgb(params):\n",
    "    \"\"\"\n",
    "    Objective function for LightGBM hyperparameter tuning.\n",
    "    Trains a model and evaluates using Average Precision (AP).\n",
    "    \"\"\"\n",
    "    # Build LightGBM parameters\n",
    "    params = {\n",
    "        \"objective\": \"binary\",\n",
    "        \"metric\": \"binary_logloss\",\n",
    "        \"verbosity\": -1,\n",
    "        \"seed\": RANDOM_SEED,\n",
    "        \"learning_rate\": params[\"learning_rate\"],\n",
    "        \"num_leaves\": int(params[\"num_leaves\"]),\n",
    "        \"min_child_samples\": int(params[\"min_child_samples\"]),\n",
    "        \"feature_fraction\": params[\"feature_fraction\"]\n",
    "    }\n",
    "\n",
    "    # Prepare train/validation datasets\n",
    "    lgb_train = lgb.Dataset(X_train, label=y_train)\n",
    "    lgb_val   = lgb.Dataset(X_val, label=y_val)\n",
    "\n",
    "    # Train model with early stopping\n",
    "    model = lgb.train(\n",
    "        params,\n",
    "        lgb_train,\n",
    "        valid_sets=[lgb_val],\n",
    "        num_boost_round=500,\n",
    "        callbacks=[lgb.early_stopping(50, verbose=False)]\n",
    "    )\n",
    "\n",
    "    # Predict probabilities for validation set\n",
    "    y_pred = model.predict(X_val, num_iteration=model.best_iteration)\n",
    "\n",
    "    # Compute Average Precision (higher is better, so return -AP as loss)\n",
    "    ap = average_precision_score(y_val, y_pred)\n",
    "\n",
    "    return {\"loss\": -ap, \"status\": STATUS_OK}\n",
    "\n",
    "\n",
    "# Define search space for Hyperopt\n",
    "search_space_lgb = {\n",
    "    \"learning_rate\": hp.uniform(\"learning_rate\", 0.01, 0.2),\n",
    "    \"num_leaves\": hp.quniform(\"num_leaves\", 16, 128, 1),\n",
    "    \"min_child_samples\": hp.quniform(\"min_child_samples\", 5, 50, 1),\n",
    "    \"feature_fraction\": hp.uniform(\"feature_fraction\", 0.6, 1.0)\n",
    "}\n",
    "\n",
    "# Run optimization\n",
    "trials_lgb = Trials()\n",
    "best_lgb = fmin(\n",
    "    fn=objective_lgb,\n",
    "    space=search_space_lgb,\n",
    "    algo=tpe.suggest,\n",
    "    max_evals=30,\n",
    "    trials=trials_lgb,\n",
    "    rstate=np.random.default_rng(RANDOM_SEED)\n",
    ")\n",
    "\n",
    "print(\"Best LightGBM params:\", best_lgb)\n",
    "\n",
    "\n",
    "# -------------------------------\n",
    "# Train final model with best params\n",
    "# -------------------------------\n",
    "final_params = {\n",
    "    \"objective\": \"binary\",\n",
    "    \"metric\": \"binary_logloss\",\n",
    "    \"verbosity\": -1,\n",
    "    \"seed\": RANDOM_SEED,\n",
    "    \"learning_rate\": best_lgb[\"learning_rate\"],\n",
    "    \"num_leaves\": int(best_lgb[\"num_leaves\"]),\n",
    "    \"min_child_samples\": int(best_lgb[\"min_child_samples\"]),\n",
    "    \"feature_fraction\": best_lgb[\"feature_fraction\"]\n",
    "}\n",
    "\n",
    "lgb_train = lgb.Dataset(X_train, label=y_train)\n",
    "lgb_val   = lgb.Dataset(X_val, label=y_val)\n",
    "\n",
    "final_model = lgb.train(\n",
    "    final_params,\n",
    "    lgb_train,\n",
    "    valid_sets=[lgb_val],\n",
    "    num_boost_round=500,\n",
    "    callbacks=[lgb.early_stopping(50, verbose=False)]\n",
    ")\n",
    "\n",
    "# Predictions on validation set\n",
    "y_pred_final = (final_model.predict(X_val, num_iteration=final_model.best_iteration) > 0.5).astype(int)\n",
    "\n",
    "# Print classification report\n",
    "print(\"\\nClassification Report (Best LightGBM Model):\")\n",
    "print(classification_report(y_val, y_pred_final, digits=3))\n"
   ]
  },
  {
   "cell_type": "markdown",
   "id": "9d736f70",
   "metadata": {},
   "source": [
    "### Catboost"
   ]
  },
  {
   "cell_type": "code",
   "execution_count": 28,
   "id": "a73143aa",
   "metadata": {},
   "outputs": [
    {
     "name": "stdout",
     "output_type": "stream",
     "text": [
      "100%|██████████| 30/30 [07:03<00:00, 14.11s/trial, best loss: -0.8924780747082945]\n",
      "Best CatBoost params: {'depth': np.float64(6.0), 'l2_leaf_reg': np.float64(3.8143855001474134), 'learning_rate': np.float64(0.1247171150344261)}\n",
      "\n",
      "Classification Report (Best CatBoost Model):\n",
      "              precision    recall  f1-score   support\n",
      "\n",
      "           0      1.000     1.000     1.000    146170\n",
      "           1      0.798     0.874     0.834       230\n",
      "\n",
      "    accuracy                          0.999    146400\n",
      "   macro avg      0.899     0.937     0.917    146400\n",
      "weighted avg      0.999     0.999     0.999    146400\n",
      "\n"
     ]
    }
   ],
   "source": [
    "# Define objective function for Hyperopt\n",
    "def objective_cat(params):\n",
    "    \"\"\"\n",
    "    Objective function for CatBoost hyperparameter tuning.\n",
    "    Trains a model and evaluates using Average Precision (AP).\n",
    "    \"\"\"\n",
    "    # Instantiate CatBoost with given hyperparameters\n",
    "    model = CatBoostClassifier(\n",
    "        loss_function=\"Logloss\",\n",
    "        eval_metric=\"AUC\",  # CatBoost uses AUC internally during training\n",
    "        iterations=1000,\n",
    "        learning_rate=params[\"learning_rate\"],\n",
    "        depth=int(params[\"depth\"]),\n",
    "        l2_leaf_reg=params[\"l2_leaf_reg\"],\n",
    "        random_seed=RANDOM_SEED,\n",
    "        verbose=False\n",
    "    )\n",
    "\n",
    "    # Train with early stopping on validation set\n",
    "    model.fit(X_train, y_train, eval_set=(X_val, y_val), early_stopping_rounds=50)\n",
    "\n",
    "    # Predict probabilities for validation set\n",
    "    y_pred = model.predict_proba(X_val)[:, 1]\n",
    "\n",
    "    # Compute Average Precision (maximize AP, minimize -AP for Hyperopt)\n",
    "    ap = average_precision_score(y_val, y_pred)\n",
    "\n",
    "    return {\"loss\": -ap, \"status\": STATUS_OK}\n",
    "\n",
    "\n",
    "# Define search space for Hyperopt\n",
    "search_space_cat = {\n",
    "    \"learning_rate\": hp.uniform(\"learning_rate\", 0.01, 0.2),\n",
    "    \"depth\": hp.quniform(\"depth\", 4, 10, 1),\n",
    "    \"l2_leaf_reg\": hp.uniform(\"l2_leaf_reg\", 1.0, 10.0)\n",
    "}\n",
    "\n",
    "# Run optimization\n",
    "trials_cat = Trials()\n",
    "best_cat = fmin(\n",
    "    fn=objective_cat,\n",
    "    space=search_space_cat,\n",
    "    algo=tpe.suggest,\n",
    "    max_evals=30,\n",
    "    trials=trials_cat,\n",
    "    rstate=np.random.default_rng(RANDOM_SEED)\n",
    ")\n",
    "\n",
    "print(\"Best CatBoost params:\", best_cat)\n",
    "\n",
    "\n",
    "# -------------------------------\n",
    "# Train final model with best params\n",
    "# -------------------------------\n",
    "final_cat = CatBoostClassifier(\n",
    "    loss_function=\"Logloss\",\n",
    "    eval_metric=\"AUC\",\n",
    "    iterations=1000,\n",
    "    learning_rate=best_cat[\"learning_rate\"],\n",
    "    depth=int(best_cat[\"depth\"]),\n",
    "    l2_leaf_reg=best_cat[\"l2_leaf_reg\"],\n",
    "    random_seed=RANDOM_SEED,\n",
    "    verbose=False\n",
    ")\n",
    "\n",
    "final_cat.fit(X_train, y_train, eval_set=(X_val, y_val), early_stopping_rounds=50)\n",
    "\n",
    "# Predictions on validation set (binary)\n",
    "y_pred_final = final_cat.predict(X_val)\n",
    "\n",
    "# Print classification report\n",
    "print(\"\\nClassification Report (Best CatBoost Model):\")\n",
    "print(classification_report(y_val, y_pred_final, digits=3))"
   ]
  },
  {
   "cell_type": "markdown",
   "id": "f988ac67",
   "metadata": {},
   "source": [
    "### Hyperparameter Optimization Summary\n",
    "\n",
    "Through our experiments we confirmed that **hyperparameter tuning significantly improves model performance** compared to baseline implementations.  \n",
    "\n",
    "- Using **Hyperopt**, we efficiently searched a defined parameter space without the need for manual trial-and-error.  \n",
    "- For **LightGBM**, tuning improved the precision–recall balance, especially in recall, which is critical in detecting failures.  \n",
    "- For **CatBoost**, optimized parameters yielded the best overall performance, with a precision of ~80% and recall of ~87% for the failure class.  \n",
    "\n",
    "**Conclusion:**  \n",
    "Hyperopt provides a systematic and reproducible way to optimize model performance, making it an essential step in building a robust predictive maintenance pipeline.\n"
   ]
  }
 ],
 "metadata": {
  "kernelspec": {
   "display_name": "walmart",
   "language": "python",
   "name": "python3"
  },
  "language_info": {
   "codemirror_mode": {
    "name": "ipython",
    "version": 3
   },
   "file_extension": ".py",
   "mimetype": "text/x-python",
   "name": "python",
   "nbconvert_exporter": "python",
   "pygments_lexer": "ipython3",
   "version": "3.13.7"
  }
 },
 "nbformat": 4,
 "nbformat_minor": 5
}
